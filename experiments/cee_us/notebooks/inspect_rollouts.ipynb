{
 "cells": [
  {
   "cell_type": "code",
   "execution_count": 1,
   "id": "52f21142",
   "metadata": {},
   "outputs": [
    {
     "name": "stdout",
     "output_type": "stream",
     "text": [
      "/home/simonreif/cee-us\n",
      "Creating offscreen glfw\n"
     ]
    }
   ],
   "source": [
    "#%cd ../../../\n",
    "%cd /home/simonreif/cee-us\n",
    "import os\n",
    "import numpy as np\n",
    "import pickle\n",
    "import smart_settings\n",
    "from mbrl.environments import env_from_string\n",
    "#from mbrl.controllers.fb import ForwardBackwardController\n",
    "# Needed for the recording only if LD_PRELOAD is not unset!\n",
    "from mujoco_py import GlfwContext\n",
    "GlfwContext(offscreen=True)\n",
    "from mbrl.offline_helpers import buffer_utils as bu\n",
    "from mbrl.offline_helpers.eval import calculate_success_rates\n",
    "from mbrl.offline_helpers import misc\n"
   ]
  },
  {
   "cell_type": "code",
   "execution_count": 2,
   "id": "91ac5107",
   "metadata": {},
   "outputs": [],
   "source": [
    "path_1 = \"results/cee_us/construction/2blocks/gnn_ensemble_cee_us_freeplay/checkpoints_225/rollouts_wog\"\n",
    "path_flip_wog =\"results/cee_us/zero_shot/2blocks/225iters/construction_flip/gnn_ensemble_icem/checkpoints_000/rollouts_wog\"\n",
    "path_flip_wg=\"results/cee_us/zero_shot/2blocks/225iters/construction_flip/gnn_ensemble_icem/checkpoints_000/rollouts\"\n",
    "path_comb = \"datasets/construction/fb/freeplay_plus_flip/rollouts_wog\"\n",
    "path_trunc = \"datasets/construction/bc/truncated/flip/rollouts_wog\"\n"
   ]
  },
  {
   "cell_type": "code",
   "execution_count": 3,
   "id": "aea8464b",
   "metadata": {},
   "outputs": [],
   "source": [
    "#fpf_buffer = bu.combine_buffers_from_dirs(path_1, path_2, path_comb)\n",
    "#print(\"Buffer contains {} rollouts, each with length {}\".format(len(fpf_buffer), fpf_buffer[0][\"observations\"].shape[0]))"
   ]
  },
  {
   "cell_type": "code",
   "execution_count": 4,
   "id": "a22df781",
   "metadata": {},
   "outputs": [
    {
     "name": "stdout",
     "output_type": "stream",
     "text": [
      "Flip Buffer contains 1500 rollouts, each with length 100\n"
     ]
    }
   ],
   "source": [
    "# with open(path_1, 'rb') as f:\n",
    "#      buffer_fp = pickle.load(f)\n",
    "with open(path_flip_wog, \"rb\") as f:\n",
    "    buffer_flip = pickle.load(f)\n",
    "with open(path_flip_wg, \"rb\") as f:\n",
    "    buffer_flip_wg = pickle.load(f)\n",
    "with open(path_trunc, \"rb\") as f:\n",
    "    buffer_trunc = pickle.load(f)\n",
    "    \n",
    "#print(\"Freeplay Buffer contains {} rollouts, each with length {}\".format(len(buffer_fp), buffer_fp[0][\"observations\"].shape[0]))\n",
    "print(\"Flip Buffer contains {} rollouts, each with length {}\".format(len(buffer_flip), buffer_flip[0][\"observations\"].shape[0]))"
   ]
  },
  {
   "cell_type": "code",
   "execution_count": 5,
   "id": "c9d466d4",
   "metadata": {},
   "outputs": [],
   "source": [
    "working_dir = os.path.dirname(os.path.dirname(path_flip_wg))\n",
    "params = smart_settings.load(os.path.join(working_dir, 'settings.json'), make_immutable=False)\n",
    "env = env_from_string(params.env, **params[\"env_params\"])\n"
   ]
  },
  {
   "cell_type": "code",
   "execution_count": 7,
   "id": "5123f4b1",
   "metadata": {},
   "outputs": [
    {
     "name": "stdout",
     "output_type": "stream",
     "text": [
      "goal_from_obs: [1.57079637 0.         0.         1.57079637 0.         0.\n",
      " 0.         0.         0.        ]\n",
      "goal_from_state: [1.57079633 0.         0.         1.57079633 0.         0.\n",
      " 0.         0.         0.        ]\n",
      "obs_wog: [ 1.36575913e+00  7.37307966e-01  5.48614264e-01  1.26626794e-04\n",
      "  3.73157352e-04 -6.76568085e-03  8.57364619e-04  8.21815897e-03\n",
      " -2.72476231e-04  2.97866616e-04  1.45041215e+00  8.04565132e-01\n",
      "  4.24882352e-01 -0.00000000e+00  0.00000000e+00 -0.00000000e+00\n",
      " -3.55528076e-20  1.83153830e-20  1.43005209e-05  2.31186249e-18\n",
      "  4.88829414e-18 -5.92531445e-20  1.25925732e+00  6.43819630e-01\n",
      "  4.24882680e-01 -0.00000000e+00  0.00000000e+00 -0.00000000e+00\n",
      " -1.43651368e-20 -1.30022687e-20  1.38340829e-05  2.73016793e-18\n",
      " -3.17791624e-18 -7.73549892e-19]\n",
      "obs_recomb: [ 1.36575913e+00  7.37307966e-01  5.48614264e-01  1.26626794e-04\n",
      "  3.73157352e-04 -6.76568085e-03  8.57364619e-04  8.21815897e-03\n",
      " -2.72476231e-04  2.97866616e-04  1.45041215e+00  8.04565132e-01\n",
      "  4.24882352e-01 -0.00000000e+00  0.00000000e+00 -0.00000000e+00\n",
      " -3.55528076e-20  1.83153830e-20  1.43005209e-05  2.31186249e-18\n",
      "  4.88829414e-18 -5.92531445e-20  1.25925732e+00  6.43819630e-01\n",
      "  4.24882680e-01 -0.00000000e+00  0.00000000e+00 -0.00000000e+00\n",
      " -1.43651368e-20 -1.30022687e-20  1.38340829e-05  2.73016793e-18\n",
      " -3.17791624e-18 -7.73549892e-19  1.57079633e+00  0.00000000e+00\n",
      "  0.00000000e+00  1.57079633e+00  0.00000000e+00  0.00000000e+00\n",
      "  0.00000000e+00  0.00000000e+00  0.00000000e+00]\n",
      "obs: [ 1.36575913e+00  7.37307966e-01  5.48614264e-01  1.26626794e-04\n",
      "  3.73157352e-04 -6.76568085e-03  8.57364619e-04  8.21815897e-03\n",
      " -2.72476231e-04  2.97866616e-04  1.45041215e+00  8.04565132e-01\n",
      "  4.24882352e-01 -0.00000000e+00  0.00000000e+00 -0.00000000e+00\n",
      " -3.55528076e-20  1.83153830e-20  1.43005209e-05  2.31186249e-18\n",
      "  4.88829414e-18 -5.92531445e-20  1.25925732e+00  6.43819630e-01\n",
      "  4.24882680e-01 -0.00000000e+00  0.00000000e+00 -0.00000000e+00\n",
      " -1.43651368e-20 -1.30022687e-20  1.38340829e-05  2.73016793e-18\n",
      " -3.17791624e-18 -7.73549892e-19  1.57079637e+00  0.00000000e+00\n",
      "  0.00000000e+00  1.57079637e+00  0.00000000e+00  0.00000000e+00\n",
      "  0.00000000e+00  0.00000000e+00  0.00000000e+00]\n"
     ]
    },
    {
     "data": {
      "text/plain": [
       "array([0.00000000e+00, 0.00000000e+00, 0.00000000e+00, 0.00000000e+00,\n",
       "       0.00000000e+00, 0.00000000e+00, 0.00000000e+00, 0.00000000e+00,\n",
       "       0.00000000e+00, 0.00000000e+00, 0.00000000e+00, 0.00000000e+00,\n",
       "       0.00000000e+00, 0.00000000e+00, 0.00000000e+00, 0.00000000e+00,\n",
       "       0.00000000e+00, 0.00000000e+00, 0.00000000e+00, 0.00000000e+00,\n",
       "       0.00000000e+00, 0.00000000e+00, 0.00000000e+00, 0.00000000e+00,\n",
       "       0.00000000e+00, 0.00000000e+00, 0.00000000e+00, 0.00000000e+00,\n",
       "       0.00000000e+00, 0.00000000e+00, 0.00000000e+00, 0.00000000e+00,\n",
       "       0.00000000e+00, 0.00000000e+00, 4.37113901e-08, 0.00000000e+00,\n",
       "       0.00000000e+00, 4.37113901e-08, 0.00000000e+00, 0.00000000e+00,\n",
       "       0.00000000e+00, 0.00000000e+00, 0.00000000e+00])"
      ]
     },
     "execution_count": 7,
     "metadata": {},
     "output_type": "execute_result"
    }
   ],
   "source": [
    "ep_id = 15\n",
    "step_id = 1\n",
    "goal_from_obs = env.goal_from_observation(buffer_flip_wg[ep_id][\"next_observations\"][step_id])\n",
    "print(f\"goal_from_obs: {goal_from_obs}\")\n",
    "goal_from_state = env.goal_from_state(buffer_flip[ep_id][\"env_states\"][step_id])\n",
    "print(f\"goal_from_state: {goal_from_state}\")\n",
    "obs_wog = buffer_flip[ep_id][\"next_observations\"][step_id]\n",
    "print(f\"obs_wog: {obs_wog}\")\n",
    "obs_recomb = env.append_goal_to_observation(obs_wog, goal_from_state)\n",
    "print(f\"obs_recomb: {obs_recomb}\")\n",
    "obs = buffer_flip_wg[ep_id][\"next_observations\"][step_id]\n",
    "print(f\"obs: {obs}\")\n",
    "obs-obs_recomb"
   ]
  },
  {
   "cell_type": "code",
   "execution_count": null,
   "id": "7c36b3e5",
   "metadata": {},
   "outputs": [],
   "source": [
    "buffer_with_goals_path = os.path.join(working_dir, \"checkpoints_000/rollouts\")\n",
    "with open(buffer_with_goals_path, \"rb\") as f:\n",
    "    buffer_with_goals = pickle.load(f)\n",
    "success_rates = calculate_success_rates(env, buffer_with_goals)\n",
    "# rewards_comprew_eps0 = [env.compute_reward_from_obs_wg(obs) for obs in buffer_with_goals[0][\"next_observations\"]]\n",
    "# rewards_comprew_eps0 = np.array(rewards_comprew_eps0)"
   ]
  },
  {
   "cell_type": "code",
   "execution_count": 9,
   "id": "ba30d3a3",
   "metadata": {},
   "outputs": [
    {
     "name": "stdout",
     "output_type": "stream",
     "text": [
      "Mean rewards for successes 0, 0.5 and 1 are -2.0092587769031525, -2.0079834772192915, -2.008459070454473\n",
      "Mean rewards for successes 0, 0.5 and 1 are -2.008941501379013, -1.9572747318368209, -2.0121837236263134\n",
      "Mean rewards for successes 0, 0.5 and 1 are -2.009290647506714, -1.9958116718700953, -1.2065313160419464\n",
      "Mean rewards for successes 0, 0.5 and 1 are -2.0091125263887295, -2.0099314321954567, 0\n",
      "Mean rewards for successes 0, 0.5 and 1 are -2.009492286046346, -2.009712076187134, -2.013160715103149\n",
      "Mean rewards for successes 0, 0.5 and 1 are -2.0088728533850775, -1.962670123854349, -1.008606421450774\n",
      "Mean rewards for successes 0, 0.5 and 1 are -2.0092990928226047, -1.998055676837544, 0\n",
      "Mean rewards for successes 0, 0.5 and 1 are -2.008280348777771, -1.0205655376116434, 0\n",
      "Mean rewards for successes 0, 0.5 and 1 are -2.0090440011024473, 0, 0\n",
      "Mean rewards for successes 0, 0.5 and 1 are -2.008790595190866, -1.0491652154922486, 1.0\n",
      "Mean rewards for successes 0, 0.5 and 1 are -2.0089379284116955, -2.0086259841918945, -2.0111615245724903\n",
      "Mean rewards for successes 0, 0.5 and 1 are -2.0091699686917392, -2.008652191895705, -2.011384700473986\n",
      "Sum of rewards: -24.108490526606158, -20.028448119192184, -11.271487471723132\n"
     ]
    }
   ],
   "source": [
    "idx = 1\n",
    "s_rewards_zeroes, s_rewards_ones, s_rewards_twos = 0, 0, 0\n",
    "for idx in range(43, 55):\n",
    "    successes = np.array(env.eval_success(buffer_with_goals[idx][\"next_observations\"]))\n",
    "    rewards = buffer_with_goals[idx][\"rewards\"]\n",
    "    rewards_zeroes, rewards_ones, rewards_twos = misc.cr_es_agreement(rewards, successes)\n",
    "    s_rewards_zeroes += rewards_zeroes\n",
    "    s_rewards_ones += rewards_ones\n",
    "    s_rewards_twos += rewards_twos\n",
    "print(f\"Sum of rewards: {s_rewards_zeroes}, {s_rewards_ones}, {s_rewards_twos}\")"
   ]
  },
  {
   "cell_type": "code",
   "execution_count": null,
   "id": "0f6f085d",
   "metadata": {},
   "outputs": [
    {
     "name": "stdout",
     "output_type": "stream",
     "text": [
      "Mean rewards for successes 0, 0.5 and 1 are -2.0093651468103584, nan, -1.0082491874694823\n"
     ]
    },
    {
     "name": "stderr",
     "output_type": "stream",
     "text": [
      "/home/simonreif/anaconda3/envs/mbrl/lib/python3.8/site-packages/numpy/core/fromnumeric.py:3432: RuntimeWarning: Mean of empty slice.\n",
      "  return _methods._mean(a, axis=axis, dtype=dtype,\n",
      "/home/simonreif/anaconda3/envs/mbrl/lib/python3.8/site-packages/numpy/core/_methods.py:190: RuntimeWarning: invalid value encountered in double_scalars\n",
      "  ret = ret.dtype.type(ret / rcount)\n"
     ]
    }
   ],
   "source": [
    "print(np.unique(successes, return_index=True, return_counts=True))\n"
   ]
  },
  {
   "cell_type": "code",
   "execution_count": 10,
   "id": "6c9c5646",
   "metadata": {},
   "outputs": [
    {
     "name": "stdout",
     "output_type": "stream",
     "text": [
      "(array([0., 1., 2.], dtype=float32), array([ 0, 10, 31]), array([11, 20, 69]))\n"
     ]
    }
   ],
   "source": [
    "print(np.unique(successes, return_index=True, return_counts=True))"
   ]
  },
  {
   "cell_type": "code",
   "execution_count": null,
   "id": "6e0ed4b7",
   "metadata": {},
   "outputs": [
    {
     "name": "stdout",
     "output_type": "stream",
     "text": [
      "32\n",
      "96\n",
      "100\n",
      "57\n",
      "52\n",
      "49\n",
      "100\n",
      "100\n",
      "100\n",
      "100\n",
      "64\n",
      "11\n",
      "100\n",
      "41\n",
      "33\n",
      "46\n",
      "100\n",
      "100\n",
      "100\n",
      "41\n"
     ]
    }
   ],
   "source": [
    "for i in range(20):\n",
    "    print(len(buffer_trunc[i]))"
   ]
  },
  {
   "cell_type": "code",
   "execution_count": 8,
   "id": "f436b58c",
   "metadata": {},
   "outputs": [
    {
     "name": "stdout",
     "output_type": "stream",
     "text": [
      "(10,) (20,)\n",
      "(30,)\n",
      "(30, 4)\n"
     ]
    }
   ],
   "source": [
    "batch_1 = buffer_flip.sample(10)\n",
    "batch_2 = buffer_trunc.sample(20)\n",
    "print(batch_1.shape, batch_2.shape)\n",
    "batch_comb = np.concatenate((batch_1, batch_2))\n",
    "print(batch_comb.shape)\n",
    "print(batch_comb[\"actions\"].shape)"
   ]
  },
  {
   "cell_type": "code",
   "execution_count": 11,
   "id": "f5078515",
   "metadata": {},
   "outputs": [
    {
     "name": "stdout",
     "output_type": "stream",
     "text": [
      "(10, 66)\n"
     ]
    }
   ],
   "source": [
    "env_states = batch_1[\"env_states\"]\n",
    "print(env_states.shape)"
   ]
  },
  {
   "cell_type": "code",
   "execution_count": null,
   "id": "463ac1ff",
   "metadata": {},
   "outputs": [],
   "source": [
    "from mbrl.offline_helpers.buffer_utils import filter_buffer_by_length\n",
    "filt_buffer = filter_buffer_by_length(buffer_trunc, 99)"
   ]
  },
  {
   "cell_type": "code",
   "execution_count": 10,
   "id": "f8147c72",
   "metadata": {},
   "outputs": [
    {
     "name": "stdout",
     "output_type": "stream",
     "text": [
      "32\n",
      "96\n",
      "57\n",
      "52\n",
      "49\n",
      "64\n",
      "11\n",
      "41\n",
      "33\n",
      "46\n",
      "41\n",
      "32\n",
      "78\n",
      "47\n",
      "35\n",
      "59\n",
      "71\n",
      "69\n",
      "32\n",
      "47\n"
     ]
    }
   ],
   "source": [
    "len(filt_buffer)\n",
    "for i in range(20):\n",
    "    print(len(filt_buffer[i]))"
   ]
  },
  {
   "cell_type": "code",
   "execution_count": 18,
   "id": "6a9fc728",
   "metadata": {},
   "outputs": [
    {
     "data": {
      "text/plain": [
       "(array([0., 1.]), array([123309,  26691]))"
      ]
     },
     "execution_count": 18,
     "metadata": {},
     "output_type": "execute_result"
    }
   ],
   "source": [
    "np.unique(buffer_with_goals[\"successes\"], return_counts=True)"
   ]
  },
  {
   "cell_type": "code",
   "execution_count": 22,
   "id": "cb57bb11",
   "metadata": {},
   "outputs": [],
   "source": [
    "data = buffer_with_goals[0]._data\n",
    "data_mod = data[:30]"
   ]
  },
  {
   "cell_type": "code",
   "execution_count": 25,
   "id": "f4d797c2",
   "metadata": {},
   "outputs": [
    {
     "data": {
      "text/plain": [
       "(30, 43)"
      ]
     },
     "execution_count": 25,
     "metadata": {},
     "output_type": "execute_result"
    }
   ],
   "source": [
    "data_mod[\"observations\"].shape"
   ]
  },
  {
   "cell_type": "code",
   "execution_count": null,
   "id": "4ed1e597",
   "metadata": {},
   "outputs": [],
   "source": [
    "buffer_with_goals[]"
   ]
  },
  {
   "cell_type": "code",
   "execution_count": 7,
   "id": "17bf007d",
   "metadata": {},
   "outputs": [
    {
     "name": "stdout",
     "output_type": "stream",
     "text": [
      "vars (34,)\n",
      "0.3667941443926655\n"
     ]
    }
   ],
   "source": [
    "#msd_fp = mean_squared_diffs(buffer_fp)\n",
    "msd_flip = mean_squared_diffs(buffer_flip)\n",
    "#print(msd_fp)\n",
    "print(msd_flip)"
   ]
  },
  {
   "cell_type": "code",
   "execution_count": 8,
   "id": "43cf31a9",
   "metadata": {},
   "outputs": [
    {
     "name": "stdout",
     "output_type": "stream",
     "text": [
      "[('observations', 'f8', (34,)), ('next_observations', 'f8', (34,)), ('actions', 'f8', (4,)), ('rewards', 'f8', ()), ('dones', 'f8', ()), ('env_states', 'f8', (66,)), ('is_success', 'f8', ()), ('successes', 'f8', ())]\n"
     ]
    }
   ],
   "source": [
    "print(buffer_flip[0].dtype)"
   ]
  },
  {
   "cell_type": "code",
   "execution_count": 9,
   "id": "187ccd6d",
   "metadata": {},
   "outputs": [],
   "source": [
    "data = buffer_flip[0]._data"
   ]
  },
  {
   "cell_type": "code",
   "execution_count": 17,
   "id": "e08672e6",
   "metadata": {},
   "outputs": [
    {
     "name": "stdout",
     "output_type": "stream",
     "text": [
      "[0. 0. 0. 0. 0. 0. 0. 0. 0. 0. 0. 0. 0. 0. 0. 0. 0. 0. 0. 0. 0. 0. 0. 0.\n",
      " 0. 0. 0. 0. 0. 0. 0. 1. 1. 1. 1. 1. 1. 1. 1. 1. 1. 1. 1. 1. 1. 1. 1. 1.\n",
      " 1. 1. 1. 1. 1. 1. 1. 1. 1. 1. 1. 1. 1. 1. 1. 1. 1. 1. 1. 1. 1. 1. 1. 1.\n",
      " 1. 1. 1. 1. 1. 1. 1. 1. 1. 1. 1. 1. 1. 1. 1. 1. 1. 1. 1. 1. 1. 1. 1. 1.\n",
      " 1. 1. 1. 1.]\n"
     ]
    },
    {
     "ename": "AttributeError",
     "evalue": "'numpy.ndarray' object has no attribute 'keys'",
     "output_type": "error",
     "traceback": [
      "\u001b[0;31m---------------------------------------------------------------------------\u001b[0m",
      "\u001b[0;31mAttributeError\u001b[0m                            Traceback (most recent call last)",
      "Cell \u001b[0;32mIn[17], line 2\u001b[0m\n\u001b[1;32m      1\u001b[0m \u001b[38;5;28mprint\u001b[39m(data[\u001b[38;5;124m\"\u001b[39m\u001b[38;5;124msuccesses\u001b[39m\u001b[38;5;124m\"\u001b[39m])\n\u001b[0;32m----> 2\u001b[0m \u001b[38;5;28mprint\u001b[39m(\u001b[43mdata\u001b[49m\u001b[38;5;241;43m.\u001b[39;49m\u001b[43mkeys\u001b[49m())\n",
      "\u001b[0;31mAttributeError\u001b[0m: 'numpy.ndarray' object has no attribute 'keys'"
     ]
    }
   ],
   "source": [
    "print(data[\"successes\"])\n",
    "print(data.keys())"
   ]
  },
  {
   "cell_type": "code",
   "execution_count": null,
   "id": "1cfc45ef",
   "metadata": {},
   "outputs": [],
   "source": [
    "rew = buffer_flip[\"rewards\"]\n",
    "dons = buffer_flip[\"dones\"]\n",
    "is_succ = buffer_flip[\"is_success\"]\n",
    "succcesses = buffer_flip[\"successes\"]"
   ]
  },
  {
   "cell_type": "code",
   "execution_count": null,
   "id": "89b8011e",
   "metadata": {},
   "outputs": [
    {
     "name": "stdout",
     "output_type": "stream",
     "text": [
      "26691\n",
      "0.0\n",
      "-264305.32527935505\n",
      "0.0\n"
     ]
    }
   ],
   "source": [
    "print(sum(succcesses==1))\n",
    "print(sum(is_succ))\n",
    "print(sum(rew))\n",
    "print(sum(dons))"
   ]
  },
  {
   "cell_type": "code",
   "execution_count": null,
   "id": "443ed3b1",
   "metadata": {},
   "outputs": [
    {
     "name": "stdout",
     "output_type": "stream",
     "text": [
      "[0. 0. 0. 0. 0. 0. 0. 0. 0. 0. 0. 0. 0. 0. 0. 0. 0. 0. 0. 0. 0. 0. 0. 0.\n",
      " 0. 0. 0. 0. 0. 0. 0. 0. 0. 0. 0. 0. 0. 0. 0. 0. 0. 0. 0. 0. 0. 0. 0. 0.\n",
      " 0. 0. 0. 0. 0. 0. 0. 0. 0. 0. 0. 0. 0. 0. 0. 0. 0. 0. 0. 0. 0. 0. 0. 0.\n",
      " 0. 0. 0. 0. 0. 0. 0. 0. 0. 0. 0. 0. 0. 0. 0. 0. 0. 0. 0. 0. 0. 0. 0. 0.\n",
      " 0. 0. 0. 0.]\n",
      "[0. 0. 0. 0. 0. 0. 0. 0. 0. 0. 0. 0. 0. 0. 0. 0. 0. 0. 0. 0. 0. 0. 0. 0.\n",
      " 0. 0. 0. 0. 0. 0. 0. 0. 0. 0. 0. 0. 0. 0. 0. 0. 0. 0. 0. 0. 0. 0. 0. 0.\n",
      " 0. 0. 0. 0. 0. 0. 0. 0. 0. 0. 0. 0. 0. 0. 0. 0. 0. 0. 0. 0. 0. 0. 0. 0.\n",
      " 0. 0. 0. 0. 0. 0. 0. 0. 0. 0. 0. 0. 0. 0. 0. 0. 0. 0. 0. 0. 0. 0. 0. 0.\n",
      " 0. 0. 0. 0.]\n",
      "[0. 0. 0. 0. 0. 0. 0. 0. 0. 0. 0. 0. 0. 0. 0. 0. 0. 0. 0. 0. 0. 0. 0. 0.\n",
      " 0. 0. 0. 0. 0. 0. 0. 0. 0. 0. 0. 0. 0. 0. 0. 0. 0. 0. 0. 0. 0. 0. 0. 0.\n",
      " 0. 0. 0. 0. 0. 0. 0. 0. 0. 0. 0. 0. 0. 0. 0. 1. 1. 1. 1. 1. 1. 1. 1. 1.\n",
      " 1. 1. 1. 1. 1. 1. 1. 1. 1. 1. 1. 1. 1. 1. 1. 1. 1. 1. 1. 1. 1. 1. 1. 1.\n",
      " 1. 1. 1. 1.]\n",
      "[0. 0. 0. 0. 0. 0. 0. 0. 0. 0. 1. 0. 1. 1. 1. 1. 1. 1. 1. 1. 1. 1. 1. 1.\n",
      " 1. 1. 1. 1. 1. 1. 1. 1. 1. 1. 1. 1. 1. 1. 1. 1. 1. 1. 1. 1. 1. 1. 1. 1.\n",
      " 1. 1. 1. 1. 1. 1. 1. 1. 1. 1. 1. 1. 1. 1. 1. 1. 1. 1. 1. 1. 1. 1. 1. 1.\n",
      " 1. 1. 1. 1. 1. 1. 1. 1. 1. 1. 1. 1. 1. 1. 1. 1. 1. 1. 1. 1. 1. 1. 1. 1.\n",
      " 1. 1. 1. 1.]\n"
     ]
    }
   ],
   "source": [
    "for i in range(8, 12):\n",
    "    print(buffer_flip[i][\"successes\"])"
   ]
  },
  {
   "cell_type": "code",
   "execution_count": null,
   "id": "b3c664d7",
   "metadata": {},
   "outputs": [
    {
     "ename": "",
     "evalue": "",
     "output_type": "error",
     "traceback": [
      "\u001b[1;31mThe Kernel crashed while executing code in the current cell or a previous cell. \n",
      "\u001b[1;31mPlease review the code in the cell(s) to identify a possible cause of the failure. \n",
      "\u001b[1;31mClick <a href='https://aka.ms/vscodeJupyterKernelCrash'>here</a> for more info. \n",
      "\u001b[1;31mView Jupyter <a href='command:jupyter.viewOutput'>log</a> for further details."
     ]
    }
   ],
   "source": [
    "fpf_buffer = bu.combine_buffers_from_dirs(path_1, path_2, path_comb)\n",
    "print(\"Buffer contains {} rollouts, each with length {}\".format(len(fpf_buffer), fpf_buffer[0][\"observations\"].shape[0]))"
   ]
  },
  {
   "cell_type": "code",
   "execution_count": null,
   "id": "1e423ed3",
   "metadata": {},
   "outputs": [],
   "source": [
    "import copy\n",
    "new_customlist = copy.deepcopy(buffer_fp.rollouts)\n",
    "new_customlist.extend(copy.deepcopy(buffer_flip.rollouts))\n"
   ]
  },
  {
   "cell_type": "code",
   "execution_count": null,
   "id": "bc805baa",
   "metadata": {},
   "outputs": [
    {
     "name": "stdout",
     "output_type": "stream",
     "text": [
      "Flatten of RolloutBuffer with different fields, use only ['observations', 'rewards', 'successes', 'is_success', 'next_observations', 'env_states', 'actions', 'dones']\n"
     ]
    },
    {
     "ename": "TypeError",
     "evalue": "Concatenating rollouts failed with error The DTypes <class 'numpy.dtype[float64]'> and <class 'numpy.dtype[void]'> do not have a common DType. For example they cannot be stored in a single array unless the dtype is `object`.",
     "output_type": "error",
     "traceback": [
      "\u001b[0;31m---------------------------------------------------------------------------\u001b[0m",
      "\u001b[0;31mTypeError\u001b[0m                                 Traceback (most recent call last)",
      "File \u001b[0;32m~/cee-us/mbrl/rolloutbuffer.py:189\u001b[0m, in \u001b[0;36mRolloutBuffer.flat\u001b[0;34m(self)\u001b[0m\n\u001b[1;32m    188\u001b[0m \u001b[38;5;28;01mtry\u001b[39;00m:\n\u001b[0;32m--> 189\u001b[0m     \u001b[38;5;28mself\u001b[39m\u001b[38;5;241m.\u001b[39m_last_flat \u001b[38;5;241m=\u001b[39m \u001b[43mnp\u001b[49m\u001b[38;5;241;43m.\u001b[39;49m\u001b[43mconcatenate\u001b[49m\u001b[43m(\u001b[49m\u001b[38;5;28;43mself\u001b[39;49m\u001b[38;5;241;43m.\u001b[39;49m\u001b[43mrollouts\u001b[49m\u001b[43m)\u001b[49m\n\u001b[1;32m    190\u001b[0m \u001b[38;5;28;01mexcept\u001b[39;00m \u001b[38;5;167;01mTypeError\u001b[39;00m:\n\u001b[1;32m    191\u001b[0m     \u001b[38;5;66;03m# use only common fields\u001b[39;00m\n",
      "File \u001b[0;32m<__array_function__ internals>:180\u001b[0m, in \u001b[0;36mconcatenate\u001b[0;34m(*args, **kwargs)\u001b[0m\n",
      "File \u001b[0;32m~/anaconda3/envs/mbrl/lib/python3.8/site-packages/numpy/core/_internal.py:466\u001b[0m, in \u001b[0;36m_promote_fields\u001b[0;34m(dt1, dt2)\u001b[0m\n\u001b[1;32m    465\u001b[0m field2 \u001b[38;5;241m=\u001b[39m dt2\u001b[38;5;241m.\u001b[39mfields[name]\n\u001b[0;32m--> 466\u001b[0m new_descr \u001b[38;5;241m=\u001b[39m \u001b[43mpromote_types\u001b[49m\u001b[43m(\u001b[49m\u001b[43mfield1\u001b[49m\u001b[43m[\u001b[49m\u001b[38;5;241;43m0\u001b[39;49m\u001b[43m]\u001b[49m\u001b[43m,\u001b[49m\u001b[43m \u001b[49m\u001b[43mfield2\u001b[49m\u001b[43m[\u001b[49m\u001b[38;5;241;43m0\u001b[39;49m\u001b[43m]\u001b[49m\u001b[43m)\u001b[49m\n\u001b[1;32m    467\u001b[0m identical \u001b[38;5;241m=\u001b[39m identical \u001b[38;5;129;01mand\u001b[39;00m new_descr \u001b[38;5;129;01mis\u001b[39;00m field1[\u001b[38;5;241m0\u001b[39m]\n",
      "\u001b[0;31mTypeError\u001b[0m: The DTypes <class 'numpy.dtype[float64]'> and <class 'numpy.dtype[void]'> do not have a common DType. For example they cannot be stored in a single array unless the dtype is `object`.",
      "\nDuring handling of the above exception, another exception occurred:\n",
      "\u001b[0;31mTypeError\u001b[0m                                 Traceback (most recent call last)",
      "File \u001b[0;32m~/cee-us/mbrl/rolloutbuffer.py:175\u001b[0m, in \u001b[0;36mRolloutBuffer.__init__\u001b[0;34m(self, rollouts, max_size)\u001b[0m\n\u001b[1;32m    174\u001b[0m     \u001b[38;5;28;01mif\u001b[39;00m \u001b[38;5;28mself\u001b[39m\u001b[38;5;241m.\u001b[39mrollouts:\n\u001b[0;32m--> 175\u001b[0m         _ \u001b[38;5;241m=\u001b[39m \u001b[38;5;28;43mself\u001b[39;49m\u001b[38;5;241;43m.\u001b[39;49m\u001b[43mflat\u001b[49m\n\u001b[1;32m    176\u001b[0m \u001b[38;5;28;01mexcept\u001b[39;00m \u001b[38;5;167;01mException\u001b[39;00m \u001b[38;5;28;01mas\u001b[39;00m e:\n",
      "File \u001b[0;32m~/cee-us/mbrl/rolloutbuffer.py:196\u001b[0m, in \u001b[0;36mRolloutBuffer.flat\u001b[0;34m(self)\u001b[0m\n\u001b[1;32m    195\u001b[0m         \u001b[38;5;28mself\u001b[39m\u001b[38;5;241m.\u001b[39mreported_flatten_warning \u001b[38;5;241m=\u001b[39m \u001b[38;5;28;01mTrue\u001b[39;00m\n\u001b[0;32m--> 196\u001b[0m     \u001b[38;5;28mself\u001b[39m\u001b[38;5;241m.\u001b[39m_last_flat \u001b[38;5;241m=\u001b[39m \u001b[43mnp\u001b[49m\u001b[38;5;241;43m.\u001b[39;49m\u001b[43mconcatenate\u001b[49m\u001b[43m(\u001b[49m\u001b[43m[\u001b[49m\u001b[43mr\u001b[49m\u001b[43m[\u001b[49m\u001b[43mcommon_fields\u001b[49m\u001b[43m]\u001b[49m\u001b[43m \u001b[49m\u001b[38;5;28;43;01mfor\u001b[39;49;00m\u001b[43m \u001b[49m\u001b[43mr\u001b[49m\u001b[43m \u001b[49m\u001b[38;5;129;43;01min\u001b[39;49;00m\u001b[43m \u001b[49m\u001b[38;5;28;43mself\u001b[39;49m\u001b[38;5;241;43m.\u001b[39;49m\u001b[43mrollouts\u001b[49m\u001b[43m]\u001b[49m\u001b[43m)\u001b[49m\n\u001b[1;32m    197\u001b[0m \u001b[38;5;28mself\u001b[39m\u001b[38;5;241m.\u001b[39mrollouts\u001b[38;5;241m.\u001b[39mmodified \u001b[38;5;241m=\u001b[39m \u001b[38;5;28;01mFalse\u001b[39;00m\n",
      "File \u001b[0;32m<__array_function__ internals>:180\u001b[0m, in \u001b[0;36mconcatenate\u001b[0;34m(*args, **kwargs)\u001b[0m\n",
      "File \u001b[0;32m~/anaconda3/envs/mbrl/lib/python3.8/site-packages/numpy/core/_internal.py:466\u001b[0m, in \u001b[0;36m_promote_fields\u001b[0;34m(dt1, dt2)\u001b[0m\n\u001b[1;32m    465\u001b[0m field2 \u001b[38;5;241m=\u001b[39m dt2\u001b[38;5;241m.\u001b[39mfields[name]\n\u001b[0;32m--> 466\u001b[0m new_descr \u001b[38;5;241m=\u001b[39m \u001b[43mpromote_types\u001b[49m\u001b[43m(\u001b[49m\u001b[43mfield1\u001b[49m\u001b[43m[\u001b[49m\u001b[38;5;241;43m0\u001b[39;49m\u001b[43m]\u001b[49m\u001b[43m,\u001b[49m\u001b[43m \u001b[49m\u001b[43mfield2\u001b[49m\u001b[43m[\u001b[49m\u001b[38;5;241;43m0\u001b[39;49m\u001b[43m]\u001b[49m\u001b[43m)\u001b[49m\n\u001b[1;32m    467\u001b[0m identical \u001b[38;5;241m=\u001b[39m identical \u001b[38;5;129;01mand\u001b[39;00m new_descr \u001b[38;5;129;01mis\u001b[39;00m field1[\u001b[38;5;241m0\u001b[39m]\n",
      "\u001b[0;31mTypeError\u001b[0m: The DTypes <class 'numpy.dtype[float64]'> and <class 'numpy.dtype[void]'> do not have a common DType. For example they cannot be stored in a single array unless the dtype is `object`.",
      "\nDuring handling of the above exception, another exception occurred:\n",
      "\u001b[0;31mTypeError\u001b[0m                                 Traceback (most recent call last)",
      "Cell \u001b[0;32mIn[17], line 2\u001b[0m\n\u001b[1;32m      1\u001b[0m \u001b[38;5;28;01mfrom\u001b[39;00m \u001b[38;5;21;01mmbrl\u001b[39;00m\u001b[38;5;21;01m.\u001b[39;00m\u001b[38;5;21;01mrolloutbuffer\u001b[39;00m \u001b[38;5;28;01mimport\u001b[39;00m RolloutBuffer\n\u001b[0;32m----> 2\u001b[0m new_buffer \u001b[38;5;241m=\u001b[39m \u001b[43mRolloutBuffer\u001b[49m\u001b[43m(\u001b[49m\u001b[43mrollouts\u001b[49m\u001b[38;5;241;43m=\u001b[39;49m\u001b[43mnew_customlist\u001b[49m\u001b[43m)\u001b[49m\n",
      "File \u001b[0;32m~/cee-us/mbrl/rolloutbuffer.py:177\u001b[0m, in \u001b[0;36mRolloutBuffer.__init__\u001b[0;34m(self, rollouts, max_size)\u001b[0m\n\u001b[1;32m    175\u001b[0m         _ \u001b[38;5;241m=\u001b[39m \u001b[38;5;28mself\u001b[39m\u001b[38;5;241m.\u001b[39mflat\n\u001b[1;32m    176\u001b[0m \u001b[38;5;28;01mexcept\u001b[39;00m \u001b[38;5;167;01mException\u001b[39;00m \u001b[38;5;28;01mas\u001b[39;00m e:\n\u001b[0;32m--> 177\u001b[0m     \u001b[38;5;28;01mraise\u001b[39;00m \u001b[38;5;167;01mTypeError\u001b[39;00m(\u001b[38;5;124mf\u001b[39m\u001b[38;5;124m\"\u001b[39m\u001b[38;5;124mConcatenating rollouts failed with error \u001b[39m\u001b[38;5;132;01m{\u001b[39;00me\u001b[38;5;132;01m}\u001b[39;00m\u001b[38;5;124m\"\u001b[39m)\n",
      "\u001b[0;31mTypeError\u001b[0m: Concatenating rollouts failed with error The DTypes <class 'numpy.dtype[float64]'> and <class 'numpy.dtype[void]'> do not have a common DType. For example they cannot be stored in a single array unless the dtype is `object`."
     ]
    }
   ],
   "source": [
    "from mbrl.rolloutbuffer import RolloutBuffer\n",
    "new_buffer = RolloutBuffer(rollouts=new_customlist)"
   ]
  },
  {
   "cell_type": "code",
   "execution_count": null,
   "id": "29417eea",
   "metadata": {},
   "outputs": [
    {
     "name": "stdout",
     "output_type": "stream",
     "text": [
      "float64\n",
      "float64\n",
      "float64\n",
      "float64\n",
      "float64\n",
      "float64\n",
      "float64\n",
      "float64\n",
      "___\n",
      "float64\n",
      "float64\n",
      "float64\n",
      "float64\n",
      "float64\n",
      "float64\n",
      "float64\n",
      "float64\n"
     ]
    }
   ],
   "source": [
    "for key in buffer_fp.common_field_names():\n",
    "    print(buffer_fp[key].dtype)\n",
    "print(\"___\")\n",
    "for key in buffer_flip.common_field_names():\n",
    "    print(buffer_flip[key].dtype)"
   ]
  },
  {
   "cell_type": "code",
   "execution_count": null,
   "id": "c6a23506",
   "metadata": {},
   "outputs": [],
   "source": [
    "def mean_squared_diffs(buffer, last_obs=True):\n",
    "    if last_obs:\n",
    "        obs=buffer.get_last_obs()\n",
    "    else:\n",
    "        raise NotImplementedError(\"Other obs selection not implemented.\")\n",
    "    vars = obs.var(axis=0)\n",
    "    print(f\"vars {vars.shape}\")\n",
    "    msd = 2*vars.mean()\n",
    "    return msd"
   ]
  },
  {
   "cell_type": "markdown",
   "id": "d245cc5a",
   "metadata": {},
   "source": [
    "## Choose if to replay free play data"
   ]
  },
  {
   "cell_type": "code",
   "execution_count": null,
   "id": "fd363f0f",
   "metadata": {},
   "outputs": [
    {
     "name": "stdout",
     "output_type": "stream",
     "text": [
      "['dones', 'next_observations', 'rewards', 'env_states', 'successes', 'is_success', 'actions', 'observations']\n",
      "['dones', 'next_observations', 'rewards', 'env_states', 'successes', 'is_success', 'actions', 'observations']\n"
     ]
    }
   ],
   "source": [
    "print(list(buffer_fp.common_field_names()))\n",
    "print(list(buffer_flip.common_field_names()))"
   ]
  },
  {
   "cell_type": "code",
   "execution_count": null,
   "id": "cc0896e4",
   "metadata": {},
   "outputs": [],
   "source": [
    "#working_dir = f'results/cee_us/{env_name}/2blocks/gnn_ensemble_cee_us_freeplay'\n",
    "working_dir = f\"results/cee_us/zero_shot/2blocks/225iters/construction_flip/gnn_ensemble_icem\"\n",
    "#working_dir = \"results/cee_us/zero_shot/2blocks/225iters/construction_stack/gnn_ensemble_icem\"\n",
    "# Specify which training iteration of cee-us to replay\n",
    "iteration = 73\n",
    "mode = \"free_play\"\n",
    "env_name = \"construction\" # construction or \"playground\""
   ]
  },
  {
   "cell_type": "markdown",
   "id": "f98bca87",
   "metadata": {},
   "source": [
    "## Read settings file and initialize the corresponding environment"
   ]
  },
  {
   "cell_type": "code",
   "execution_count": null,
   "id": "1187b4d9",
   "metadata": {},
   "outputs": [],
   "source": [
    "params = smart_settings.load(os.path.join(working_dir, 'settings.json'), make_immutable=False)\n",
    "env = env_from_string(params.env, **params[\"env_params\"])"
   ]
  },
  {
   "cell_type": "code",
   "execution_count": null,
   "id": "c162e32f",
   "metadata": {},
   "outputs": [
    {
     "data": {
      "text/plain": [
       "'Flip'"
      ]
     },
     "execution_count": 9,
     "metadata": {},
     "output_type": "execute_result"
    }
   ],
   "source": [
    "params[\"env_params\"][\"case\"]"
   ]
  },
  {
   "cell_type": "code",
   "execution_count": null,
   "id": "1264c70d",
   "metadata": {},
   "outputs": [
    {
     "data": {
      "text/plain": [
       "(43,)"
      ]
     },
     "execution_count": 10,
     "metadata": {},
     "output_type": "execute_result"
    }
   ],
   "source": [
    "env.nObj\n",
    "# for key, value in env.__dict__.items():\n",
    "#     print(key, \" : \", value)\n",
    "env.observation_space.shape"
   ]
  },
  {
   "cell_type": "markdown",
   "id": "7ed605d6",
   "metadata": {},
   "source": [
    "## Load rollout buffer"
   ]
  },
  {
   "cell_type": "code",
   "execution_count": null,
   "id": "69717fbb",
   "metadata": {},
   "outputs": [
    {
     "name": "stdout",
     "output_type": "stream",
     "text": [
      "Buffer contains 1500 rollouts, each with length 100\n"
     ]
    }
   ],
   "source": [
    "# with open(os.path.join(working_dir, 'checkpoints_225/rollouts'), 'rb') as f:\n",
    "#     buffer = pickle.load(f)\n",
    "\n",
    "with open(os.path.join(working_dir, 'checkpoints_000/rollouts'), 'rb') as f:\n",
    "    buffer = pickle.load(f)\n",
    "\n",
    "    \n",
    "print(\"Buffer contains {} rollouts, each with length {}\".format(len(buffer), buffer[0][\"observations\"].shape[0]))"
   ]
  },
  {
   "cell_type": "code",
   "execution_count": null,
   "id": "2961bf3a",
   "metadata": {},
   "outputs": [
    {
     "data": {
      "text/plain": [
       "(100, 43)"
      ]
     },
     "execution_count": 12,
     "metadata": {},
     "output_type": "execute_result"
    }
   ],
   "source": [
    "buffer[0][\"observations\"].shape"
   ]
  },
  {
   "cell_type": "markdown",
   "id": "1abfa80e",
   "metadata": {
    "scrolled": true
   },
   "source": [
    "with open(os.path.join(working_dir, 'checkpoints_latest/rollouts'), 'rb') as f:\n",
    "    buffer = pickle.load(f)\n",
    "    \n",
    "print(\"Buffer contains {} rollouts, each with length {}\".format(len(buffer), buffer[0][\"observations\"].shape[0]))"
   ]
  },
  {
   "cell_type": "code",
   "execution_count": null,
   "id": "c80a4e33",
   "metadata": {},
   "outputs": [],
   "source": [
    "from mbrl.offline_helpers.buffer_utils import get_buffer_wo_goals\n",
    "buffer_wog=get_buffer_wo_goals(buffer, env)"
   ]
  },
  {
   "cell_type": "code",
   "execution_count": null,
   "id": "74c7f485",
   "metadata": {},
   "outputs": [],
   "source": [
    "mean, std = buffer_wog.get_mean_std()"
   ]
  },
  {
   "cell_type": "code",
   "execution_count": null,
   "id": "cd5a75a3",
   "metadata": {},
   "outputs": [
    {
     "name": "stdout",
     "output_type": "stream",
     "text": [
      "0.26525406716904903 0.2028654744045809\n"
     ]
    }
   ],
   "source": [
    "print(mean.mean(), std.mean())"
   ]
  },
  {
   "cell_type": "code",
   "execution_count": null,
   "id": "82bffedc",
   "metadata": {},
   "outputs": [],
   "source": [
    "normed_obs=(buffer_wog[\"observations\"]-mean)/std"
   ]
  },
  {
   "cell_type": "code",
   "execution_count": null,
   "id": "4c526282",
   "metadata": {},
   "outputs": [
    {
     "data": {
      "text/plain": [
       "0.9998977318394802"
      ]
     },
     "execution_count": 22,
     "metadata": {},
     "output_type": "execute_result"
    }
   ],
   "source": [
    "normed_obs.std()"
   ]
  },
  {
   "cell_type": "code",
   "execution_count": null,
   "id": "e57f59d5",
   "metadata": {},
   "outputs": [
    {
     "data": {
      "text/plain": [
       "numpy.ndarray"
      ]
     },
     "execution_count": 14,
     "metadata": {},
     "output_type": "execute_result"
    }
   ],
   "source": [
    "batch = buffer_wog.sample(1024)\n",
    "type(batch)"
   ]
  },
  {
   "cell_type": "code",
   "execution_count": null,
   "id": "f8a95c32",
   "metadata": {},
   "outputs": [
    {
     "data": {
      "text/plain": [
       "40163.0"
      ]
     },
     "execution_count": 17,
     "metadata": {},
     "output_type": "execute_result"
    }
   ],
   "source": [
    "np.sum(buffer_wog[\"rewards\"])\n",
    "np.sum(buffer_wog[\"successes\"])"
   ]
  },
  {
   "cell_type": "code",
   "execution_count": null,
   "id": "8c16152e",
   "metadata": {},
   "outputs": [
    {
     "name": "stdout",
     "output_type": "stream",
     "text": [
      "min -3.1415927410125732\n",
      "max 3.1415927410125732\n",
      "mean 0.2165381196116669\n",
      "std 0.6853841297656907\n"
     ]
    }
   ],
   "source": [
    "next_obs = batch[\"next_observations\"]\n",
    "print(f\"min {np.min(next_obs)}\")\n",
    "print(f\"max {np.max(next_obs)}\")\n",
    "print(f\"mean {np.mean(next_obs)}\")\n",
    "print(f\"std {np.std(next_obs)}\")"
   ]
  },
  {
   "cell_type": "code",
   "execution_count": null,
   "id": "81e9c0c9",
   "metadata": {},
   "outputs": [
    {
     "name": "stdout",
     "output_type": "stream",
     "text": [
      "(100, 43)\n",
      "(100, 34)\n"
     ]
    }
   ],
   "source": [
    "obs_g = buffer[0][\"next_observations\"]\n",
    "obs_wog = buffer_wog[0][\"next_observations\"]\n",
    "print(obs_g.shape)\n",
    "print(obs_wog.shape)"
   ]
  },
  {
   "cell_type": "code",
   "execution_count": null,
   "id": "a53377fd",
   "metadata": {},
   "outputs": [
    {
     "name": "stdout",
     "output_type": "stream",
     "text": [
      "['observations', 'next_observations', 'actions', 'rewards', 'dones', 'env_states', 'is_success', 'successes']\n",
      "['next_observations', 'env_states', 'dones', 'rewards', 'successes', 'observations', 'actions']\n"
     ]
    }
   ],
   "source": [
    "rollouts=buffer.rollouts\n",
    "#print(rollouts[0][\"observations\"].shape)\n",
    "#obs_wog=env.observation_wo_goal(rollouts[0][\"observations\"])\n",
    "#print(obs_wog.shape)\n",
    "rollout=rollouts[0]\n",
    "print(rollout.field_names())\n"
   ]
  },
  {
   "cell_type": "code",
   "execution_count": null,
   "id": "c60d96b0",
   "metadata": {},
   "outputs": [
    {
     "name": "stdout",
     "output_type": "stream",
     "text": [
      "(7, 43) (7, 4) (7, 43)\n",
      "<class 'numpy.ndarray'> <class 'numpy.ndarray'> <class 'numpy.ndarray'>\n",
      "<class 'torch.Tensor'> <class 'torch.Tensor'> <class 'torch.Tensor'>\n"
     ]
    }
   ],
   "source": [
    "from mbrl import torch_helpers\n",
    "\n",
    "#obs, actions, next_obs = torch_helpers.to_tensor_device(buffer.get_random_transitions(120))\n",
    "obs, actions, next_obs=buffer.get_random_transitions(7)\n",
    "print(obs.shape, actions.shape, next_obs.shape)\n",
    "print(type(obs), type(actions), type(next_obs))\n",
    "obs, actions, next_obs = torch_helpers.to_tensor_device(obs, actions, next_obs)\n",
    "print(type(obs), type(actions), type(next_obs))"
   ]
  },
  {
   "cell_type": "code",
   "execution_count": null,
   "id": "680d3b5f",
   "metadata": {},
   "outputs": [
    {
     "name": "stdout",
     "output_type": "stream",
     "text": [
      "<class 'torch.Tensor'> <class 'torch.Tensor'> <class 'torch.Tensor'>\n"
     ]
    }
   ],
   "source": [
    "from mbrl import torch_helpers\n",
    "\n",
    "obs, actions, next_obs = torch_helpers.to_tensor_device(*buffer.get_random_transitions(7))\n",
    "print(type(obs), type(actions), type(next_obs))"
   ]
  },
  {
   "cell_type": "code",
   "execution_count": null,
   "id": "d7574562",
   "metadata": {},
   "outputs": [
    {
     "data": {
      "text/plain": [
       "(133, 4)"
      ]
     },
     "execution_count": 12,
     "metadata": {},
     "output_type": "execute_result"
    }
   ],
   "source": [
    "sampl = buffer.sample(133)\n",
    "sampl[\"observations\"].shape\n",
    "sampl[\"actions\"].shape"
   ]
  },
  {
   "cell_type": "code",
   "execution_count": null,
   "id": "6070ff71",
   "metadata": {},
   "outputs": [
    {
     "data": {
      "text/plain": [
       "73"
      ]
     },
     "execution_count": 56,
     "metadata": {},
     "output_type": "execute_result"
    }
   ],
   "source": [
    "obs_array.shape[-1]"
   ]
  },
  {
   "cell_type": "code",
   "execution_count": null,
   "id": "ead76a5a",
   "metadata": {},
   "outputs": [
    {
     "name": "stdout",
     "output_type": "stream",
     "text": [
      "(1520, 100, 73)\n",
      "<class 'numpy.ndarray'>\n",
      "(152000, 73)\n",
      "(50000, 73)\n",
      "[ 31916 122113  17954   2706 100959   7607  96876 110021  97621 120342\n",
      "  15700     86  86608   8702 137435  20870  92561 122898  84766  62423]\n"
     ]
    }
   ],
   "source": [
    "num_inference_samples=50_000\n",
    "print(obs_array.shape)\n",
    "print(type(obs_array))\n",
    "obs_flat=obs_array.reshape(-1, obs_array.shape[-1])\n",
    "print(obs_flat.shape)\n",
    "indices=np.random.choice(obs_flat.shape[0], num_inference_samples)\n",
    "inf_obs=obs_flat[indices]\n",
    "print(inf_obs.shape)\n",
    "print(indices[110:130])"
   ]
  },
  {
   "cell_type": "code",
   "execution_count": null,
   "id": "b89ca94c",
   "metadata": {},
   "outputs": [
    {
     "name": "stdout",
     "output_type": "stream",
     "text": [
      "<class 'numpy.ndarray'>\n"
     ]
    },
    {
     "data": {
      "text/plain": [
       "array([ 0.69924605,  0.29749206, -1.        ,  0.71758622])"
      ]
     },
     "execution_count": 45,
     "metadata": {},
     "output_type": "execute_result"
    }
   ],
   "source": [
    "i=2\n",
    "print(type(flat_buffer[2][i]))\n",
    "flat_buffer[2][i]"
   ]
  },
  {
   "cell_type": "code",
   "execution_count": null,
   "id": "2fa18e23",
   "metadata": {},
   "outputs": [],
   "source": [
    "import torch"
   ]
  },
  {
   "cell_type": "code",
   "execution_count": null,
   "id": "aa886097",
   "metadata": {},
   "outputs": [
    {
     "name": "stdout",
     "output_type": "stream",
     "text": [
      "torch.Size([1520, 100, 73])\n",
      "torch.Size([152000, 73])\n"
     ]
    },
    {
     "name": "stderr",
     "output_type": "stream",
     "text": [
      "/tmp/ipykernel_16865/2563842894.py:8: UserWarning: To copy construct from a tensor, it is recommended to use sourceTensor.clone().detach() or sourceTensor.clone().detach().requires_grad_(True), rather than torch.tensor(sourceTensor).\n",
      "  obs_array=torch.tensor(obs_array)\n"
     ]
    }
   ],
   "source": [
    "# for key in buffer[1][\"actions\"][1:10]:\n",
    "#     print(key)\n",
    "# rollout_id=1519\n",
    "# print(buffer[rollout_id][\"observations\"].shape)\n",
    "# print(any(abs(buffer[rollout_id][\"observations\"][0])>1))\n",
    "# print(buffer[rollout_id][\"observations\"][0])\n",
    "print(obs_array.shape)\n",
    "obs_array=torch.tensor(obs_array)\n",
    "c_obs_array=torch.flatten(obs_array, end_dim=1)\n",
    "print(c_obs_array.shape)"
   ]
  },
  {
   "cell_type": "markdown",
   "id": "453bbd5a",
   "metadata": {},
   "source": [
    "## Record video"
   ]
  },
  {
   "cell_type": "code",
   "execution_count": null,
   "id": "41039a16",
   "metadata": {
    "scrolled": true
   },
   "outputs": [
    {
     "name": "stdout",
     "output_type": "stream",
     "text": [
      "Record video in video/2blocks_rollout_free_play_iter100.mp4\n",
      "2000 2020 2020\n"
     ]
    },
    {
     "name": "stderr",
     "output_type": "stream",
     "text": [
      "[libx264 @ 0x347d5a40] -qscale is ignored, -crf is recommended.\n"
     ]
    }
   ],
   "source": [
    "video, video_path = setup_video(output_path, f'_{mode}_iter{iteration}', \"2blocks_\", env.get_fps())\n",
    "\n",
    "ep_length = buffer[0][\"observations\"].shape[0]\n",
    "\n",
    "render_width = 768\n",
    "render_height = 512\n",
    "\n",
    "ep_id = iteration * params.number_of_rollouts \n",
    "print(ep_id, ep_id+params.number_of_rollouts, len(buffer))\n",
    "for i in range(ep_id, min(ep_id + params.number_of_rollouts, len(buffer))):\n",
    "    obs = env.reset()\n",
    "    for t in range(ep_length):\n",
    "        if env.name == \"PlaygroundwGoals\":\n",
    "            env.set_state_from_observation(buffer[i][\"observations\"][t, :])\n",
    "        else:\n",
    "            # Robotics environments require setting the whole env state for replay!\n",
    "            env.set_GT_state(buffer[i][\"env_states\"][t, :])\n",
    "        frame = env.render(\"rgb_array\", render_width, render_height)\n",
    "        video.append_data(frame)\n",
    "        if env.name == \"FetchPickAndPlaceConstruction\":\n",
    "            del env.viewer._markers[:]\n",
    "\n",
    "video.close()"
   ]
  },
  {
   "cell_type": "markdown",
   "id": "c7e075db",
   "metadata": {},
   "source": [
    "# Render rollouts with openglw"
   ]
  },
  {
   "cell_type": "markdown",
   "id": "24f9ecf6",
   "metadata": {},
   "source": [
    "You need to set the following variable to render: \n",
    "```bash\n",
    "export LD_PRELOAD=/usr/lib/x86_64-linux-gnu/libGLEW.so\n",
    "```"
   ]
  },
  {
   "cell_type": "code",
   "execution_count": null,
   "id": "b50661f1",
   "metadata": {
    "scrolled": true
   },
   "outputs": [
    {
     "name": "stdout",
     "output_type": "stream",
     "text": [
      "Creating window glfw\n"
     ]
    },
    {
     "ename": "",
     "evalue": "",
     "output_type": "error",
     "traceback": [
      "\u001b[1;31mThe Kernel crashed while executing code in the current cell or a previous cell. \n",
      "\u001b[1;31mPlease review the code in the cell(s) to identify a possible cause of the failure. \n",
      "\u001b[1;31mClick <a href='https://aka.ms/vscodeJupyterKernelCrash'>here</a> for more info. \n",
      "\u001b[1;31mView Jupyter <a href='command:jupyter.viewOutput'>log</a> for further details."
     ]
    }
   ],
   "source": [
    "ep_id = iteration * params.number_of_rollouts \n",
    "success_rate = []\n",
    "for i in range(ep_id, min(ep_id + params.number_of_rollouts, len(buffer))):\n",
    "    episode_length = buffer[i][\"observations\"].shape[0]\n",
    "    for t in range(episode_length):\n",
    "        if env.name == \"PlaygroundwGoals\":\n",
    "            env.set_state_from_observation(buffer[i][\"observations\"][t, :])\n",
    "        else:\n",
    "            # Robotics environments require setting the whole env state for replay!\n",
    "            env.set_GT_state(buffer[i][\"env_states\"][t, :])\n",
    "        env.render()    \n",
    "env.close()"
   ]
  },
  {
   "cell_type": "code",
   "execution_count": null,
   "id": "f6490016",
   "metadata": {},
   "outputs": [],
   "source": [
    "if mode != \"free_play\":\n",
    "    success_rate = []\n",
    "    for i in range(len(buffer)):\n",
    "        rollout_success = env.eval_success(buffer[i][\"next_observations\"])\n",
    "        stable_T = 5\n",
    "        if env.name == \"FetchPickAndPlaceConstruction\" and \"tower\" in env.case:\n",
    "            # Stack is only successful if we have a full tower! \n",
    "            # Check if the tower is stable for at least 5 timesteps\n",
    "            dy = np.diff(rollout_success)\n",
    "            success = np.logical_and(rollout_success[1:]==env.num_blocks, dy==0)\n",
    "            success_rate.append(np.sum(success)>stable_T)\n",
    "        elif env.name == \"FetchPickAndPlaceConstruction\" and env.case == 'PickAndPlace':\n",
    "            # We determine success as highest number of solved elements with at least 5 timesteps of success\n",
    "            u, c = np.unique(rollout_success, return_counts = True)\n",
    "            # u: unique values, c: counts\n",
    "            count_of_highest_success = c[np.argmax(u)]    \n",
    "            success_rate.append(u[c>stable_T][-1]/env.nObj)\n",
    "        else:\n",
    "            # For flip, throw and Playground env push tasks: just get success at the end of rollout\n",
    "            success_rate.append(rollout_success[-1]/env.nObj)\n",
    "    print(\"Success rate over {} rollouts is {}\".format(len(buffer), np.asarray(success_rate).mean()))"
   ]
  },
  {
   "cell_type": "code",
   "execution_count": null,
   "id": "721e1b4f",
   "metadata": {},
   "outputs": [],
   "source": []
  }
 ],
 "metadata": {
  "kernelspec": {
   "display_name": "mbrl",
   "language": "python",
   "name": "python3"
  },
  "language_info": {
   "codemirror_mode": {
    "name": "ipython",
    "version": 3
   },
   "file_extension": ".py",
   "mimetype": "text/x-python",
   "name": "python",
   "nbconvert_exporter": "python",
   "pygments_lexer": "ipython3",
   "version": "3.8.20"
  }
 },
 "nbformat": 4,
 "nbformat_minor": 5
}
