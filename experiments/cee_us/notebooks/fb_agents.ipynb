{
 "cells": [
  {
   "cell_type": "code",
   "execution_count": 1,
   "metadata": {},
   "outputs": [
    {
     "name": "stdout",
     "output_type": "stream",
     "text": [
      "/home/simonreif/cee-us\n"
     ]
    }
   ],
   "source": [
    "%cd /home/simonreif/cee-us\n",
    "from mbrl.workflow.inspect_agents import Replay_Manager, VideoRecorder\n",
    "import numpy as np\n"
   ]
  },
  {
   "cell_type": "code",
   "execution_count": 2,
   "metadata": {},
   "outputs": [
    {
     "name": "stdout",
     "output_type": "stream",
     "text": [
      "compile False\n",
      "cudagraphs False\n",
      "Warning: No goals found in results/cee_us/construction/2blocks/fp_plus_all/05_13/zdim50/checkpoint_2100000.\n"
     ]
    }
   ],
   "source": [
    "cp_dir= \"results/cee_us/construction/2blocks/fp_plus_all/05_13/zdim50/checkpoint_2100000\"\n",
    "\n",
    "\n",
    "rm = Replay_Manager(cp_dir=cp_dir)\n",
    "rm.params.training_data_names=[\"cee_us_freeplay\"]"
   ]
  },
  {
   "cell_type": "code",
   "execution_count": 3,
   "metadata": {},
   "outputs": [
    {
     "name": "stdout",
     "output_type": "stream",
     "text": [
      "Dataset cee_us_freeplay: loaded 4520 episodes from results/cee_us/construction/2blocks/gnn_ensemble_cee_us_freeplay/checkpoints_225\n",
      "4520\n"
     ]
    }
   ],
   "source": [
    "buffer_man = rm.load_training_data()\n",
    "buffer = buffer_man.buffers[0]\n",
    "print(len(buffer))"
   ]
  },
  {
   "cell_type": "code",
   "execution_count": null,
   "metadata": {},
   "outputs": [
    {
     "name": "stderr",
     "output_type": "stream",
     "text": [
      "rollout_num:   0%|          | 0/1 [00:00<?, ?it/s, avg-ret=?]"
     ]
    },
    {
     "name": "stdout",
     "output_type": "stream",
     "text": [
      "'setting start state [ 4.00000000e-01  4.04999826e-01  4.80000001e-01  4.76618422e-05\\n -1.99439740e-05  8.29381626e-11  6.00288121e-02  9.64127884e-03\\n -8.27177223e-01 -2.98843692e-03  1.45287872e+00  2.52114206e-03\\n  9.32808214e-01  5.95256625e-03  3.12759151e-06 -3.43083151e-08\\n  1.41620950e+00  6.05687551e-01  4.24792853e-01  1.00000000e+00\\n  0.00000000e+00  0.00000000e+00  0.00000000e+00  1.26562914e+00\\n  6.86248602e-01  4.24792853e-01  1.00000000e+00  0.00000000e+00\\n  0.00000000e+00  0.00000000e+00 -1.04527579e-07  1.55239149e-09\\n  2.07344357e-04 -1.99680285e-05  5.40001634e-10  7.22114414e-05\\n  6.85972957e-04  3.68604135e-03 -1.38949682e-03 -2.92884443e-02\\n  1.12689052e-03  5.61350270e-02 -9.63531294e-04  1.11085848e-05\\n  1.07899906e-05  4.43504907e-19  2.23431800e-18 -1.33347378e-06\\n -2.88044408e-17 -2.70393485e-16  1.63243566e-16  8.51191529e-20\\n -5.47220273e-19  2.91115907e-04 -5.88017865e-17  2.08590867e-17\\n -3.51775433e-17  1.31988210e+00  8.11686187e-01  4.24792853e-01\\n  1.31988210e+00  8.11686187e-01  4.74792853e-01  0.00000000e+00\\n  0.00000000e+00  0.00000000e+00]'\n"
     ]
    },
    {
     "name": "stderr",
     "output_type": "stream",
     "text": [
      "time_steps: 100%|██████████| 100/100 [00:03<00:00, 25.29it/s, ret=-199]\n",
      "rollout_num: 100%|██████████| 1/1 [00:03<00:00,  3.99s/it, avg-ret=?]\n"
     ]
    },
    {
     "name": "stdout",
     "output_type": "stream",
     "text": [
      "DTW distances: [414.0946373062987]\n"
     ]
    }
   ],
   "source": [
    "idx = 3000\n",
    "rollout, info_dict = rm.imitation(buffer[idx], num_traj=3)"
   ]
  },
  {
   "cell_type": "code",
   "execution_count": 12,
   "metadata": {},
   "outputs": [
    {
     "name": "stdout",
     "output_type": "stream",
     "text": [
      "Record video in video/test/imit/Imitep0_3.mp4\n"
     ]
    },
    {
     "name": "stderr",
     "output_type": "stream",
     "text": [
      "[libx264 @ 0x1f009a40] -qscale is ignored, -crf is recommended.\n"
     ]
    }
   ],
   "source": [
    "from mbrl.workflow.inspect_agents import record_imitation\n",
    "\n",
    "\n",
    "record_imitation(buffer.rollouts_at_indices([idx]), rollout, \"test/imit\", name_suffix=\"ep0\")"
   ]
  },
  {
   "cell_type": "code",
   "execution_count": 3,
   "metadata": {},
   "outputs": [
    {
     "name": "stdout",
     "output_type": "stream",
     "text": [
      "Dataset cee_us_freeplay: loaded 4520 episodes from results/cee_us/construction/2blocks/gnn_ensemble_cee_us_freeplay/checkpoints_225\n",
      "Generating 20 rollouts on task Flip with horizon 100\n",
      "use_saved_goal_zr: False\n"
     ]
    },
    {
     "name": "stderr",
     "output_type": "stream",
     "text": [
      "/home/simonreif/cee-us/mbrl/controllers/fb.py:330: UserWarning: The use of `x.T` on tensors of dimension other than 2 to reverse their shape is deprecated and it will throw an error in a future release. Consider `x.mT` to transpose batches of matrices or `x.permute(*torch.arange(x.ndim - 1, -1, -1))` to reverse the dimensions of a tensor. (Triggered internally at /opt/conda/conda-bld/pytorch_1724789116784/work/aten/src/ATen/native/TensorShape.cpp:3697.)\n",
      "  z_r = torch.matmul(rews.T, bs)\n",
      "time_steps: 100%|██████████| 100/100 [00:04<00:00, 22.36it/s, ret=-120]\n",
      "time_steps: 100%|██████████| 100/100 [00:06<00:00, 16.66it/s, ret=-201]0]\n",
      "time_steps: 100%|██████████| 100/100 [00:05<00:00, 17.72it/s, ret=-201]1]\n",
      "time_steps: 100%|██████████| 100/100 [00:05<00:00, 17.30it/s, ret=-201]4]\n",
      "time_steps: 100%|██████████| 100/100 [00:06<00:00, 14.87it/s, ret=-201]1]\n",
      "time_steps: 100%|██████████| 100/100 [00:05<00:00, 17.63it/s, ret=-200]5]\n",
      "time_steps: 100%|██████████| 100/100 [00:05<00:00, 17.41it/s, ret=-201]8]\n",
      "time_steps: 100%|██████████| 100/100 [00:05<00:00, 19.95it/s, ret=-201]9]\n",
      "time_steps: 100%|██████████| 100/100 [00:05<00:00, 19.54it/s, ret=-198]1]\n",
      "time_steps: 100%|██████████| 100/100 [00:06<00:00, 15.76it/s, ret=-146]2]\n",
      "time_steps: 100%|██████████| 100/100 [00:05<00:00, 16.78it/s, ret=-133]87]\n",
      "time_steps: 100%|██████████| 100/100 [00:08<00:00, 12.00it/s, ret=-140]82]\n",
      "time_steps: 100%|██████████| 100/100 [00:06<00:00, 16.56it/s, ret=-201]79]\n",
      "time_steps: 100%|██████████| 100/100 [00:05<00:00, 17.00it/s, ret=-200]81]\n",
      "time_steps: 100%|██████████| 100/100 [00:05<00:00, 16.77it/s, ret=-201]82]\n",
      "time_steps: 100%|██████████| 100/100 [00:05<00:00, 16.97it/s, ret=-198]83]\n",
      "time_steps: 100%|██████████| 100/100 [00:06<00:00, 14.56it/s, ret=-155]84]\n",
      "time_steps: 100%|██████████| 100/100 [00:06<00:00, 15.03it/s, ret=-201]82]\n",
      "time_steps: 100%|██████████| 100/100 [00:06<00:00, 15.79it/s, ret=-201]84]\n",
      "time_steps: 100%|██████████| 100/100 [00:06<00:00, 14.60it/s, ret=-201]84]\n",
      "rollout_num: 100%|██████████| 20/20 [02:02<00:00,  6.11s/it, avg-ret=-184]\n"
     ]
    },
    {
     "name": "stdout",
     "output_type": "stream",
     "text": [
      "Mean success rate for task Flip: 0.225\n",
      "Generating 20 rollouts on task Throw with horizon 100\n",
      "use_saved_goal_zr: False\n"
     ]
    },
    {
     "name": "stderr",
     "output_type": "stream",
     "text": [
      "time_steps: 100%|██████████| 100/100 [00:06<00:00, 16.13it/s, ret=-199]\n",
      "time_steps: 100%|██████████| 100/100 [00:07<00:00, 14.03it/s, ret=-201]9]\n",
      "time_steps: 100%|██████████| 100/100 [00:07<00:00, 14.19it/s, ret=-201]0]\n",
      "time_steps: 100%|██████████| 100/100 [00:06<00:00, 16.15it/s, ret=-201]0]\n",
      "time_steps: 100%|██████████| 100/100 [00:06<00:00, 14.88it/s, ret=-118]0]\n",
      "time_steps: 100%|██████████| 100/100 [00:06<00:00, 15.57it/s, ret=-201]4]\n",
      "time_steps: 100%|██████████| 100/100 [00:06<00:00, 15.31it/s, ret=-201]7]\n",
      "time_steps: 100%|██████████| 100/100 [00:07<00:00, 13.88it/s, ret=-200]9]\n",
      "time_steps: 100%|██████████| 100/100 [00:07<00:00, 12.57it/s, ret=-201]0]\n",
      "time_steps: 100%|██████████| 100/100 [00:08<00:00, 12.05it/s, ret=-201]1]\n",
      "time_steps: 100%|██████████| 100/100 [00:07<00:00, 12.57it/s, ret=-201]92]\n",
      "time_steps: 100%|██████████| 100/100 [00:08<00:00, 11.61it/s, ret=-201]93]\n",
      "time_steps: 100%|██████████| 100/100 [00:07<00:00, 12.95it/s, ret=-135]94]\n",
      "time_steps: 100%|██████████| 100/100 [00:06<00:00, 15.04it/s, ret=-201]89]\n",
      "time_steps: 100%|██████████| 100/100 [00:07<00:00, 14.00it/s, ret=-201]90]\n",
      "time_steps: 100%|██████████| 100/100 [00:07<00:00, 12.63it/s, ret=-201]91]\n",
      "time_steps: 100%|██████████| 100/100 [00:07<00:00, 13.11it/s, ret=-201]91]\n",
      "time_steps: 100%|██████████| 100/100 [00:09<00:00, 10.97it/s, ret=-201]92]\n",
      "time_steps: 100%|██████████| 100/100 [00:07<00:00, 12.95it/s, ret=-200]92]\n",
      "time_steps: 100%|██████████| 100/100 [00:07<00:00, 12.59it/s, ret=-201]93]\n",
      "rollout_num: 100%|██████████| 20/20 [02:29<00:00,  7.46s/it, avg-ret=-193]"
     ]
    },
    {
     "name": "stdout",
     "output_type": "stream",
     "text": [
      "Mean success rate for task Throw: 0.075\n"
     ]
    },
    {
     "name": "stderr",
     "output_type": "stream",
     "text": [
      "\n"
     ]
    }
   ],
   "source": [
    "\n",
    "rollouts, infos = rm.generate_rollouts(tasks=[\"Flip\", \"Throw\"], num_rollouts=20, task_horizon=100, use_saved_goals_zrs=False)"
   ]
  },
  {
   "cell_type": "code",
   "execution_count": 4,
   "metadata": {},
   "outputs": [],
   "source": [
    "sr_eps = infos[\"Flip\"][\"success_rates_eps\"]"
   ]
  },
  {
   "cell_type": "code",
   "execution_count": null,
   "metadata": {},
   "outputs": [
    {
     "name": "stdout",
     "output_type": "stream",
     "text": [
      "[0.5 0.  0.  0.  0.  0.  0.5 0.  0.5 0.5 0.5 0.5 0.  0.  0.  0.  1.  0.\n",
      " 0.  0.5]\n",
      "[0] [16]\n"
     ]
    }
   ],
   "source": [
    "import numpy as np\n",
    "u_vals, u_idcs = np.unique(sr_eps, return_index=True)\n",
    "idx_one = u_idcs[u_vals == 0.5]\n",
    "idx_two = u_idcs[u_vals == 1]\n",
    "print(sr_eps)\n",
    "print(idx_one, idx_two)"
   ]
  },
  {
   "cell_type": "code",
   "execution_count": 13,
   "metadata": {},
   "outputs": [],
   "source": [
    "vr = VideoRecorder(rollouts[\"Flip\"], rm.get_env(\"Flip\"), \"video/tests/fp_plus_all\", name_prefix=\"flip\")"
   ]
  },
  {
   "cell_type": "code",
   "execution_count": 14,
   "metadata": {},
   "outputs": [
    {
     "name": "stdout",
     "output_type": "stream",
     "text": [
      "Record video in video/tests/fp_plus_all/flip.mp4\n"
     ]
    },
    {
     "name": "stderr",
     "output_type": "stream",
     "text": [
      "[libx264 @ 0x39f78a40] -qscale is ignored, -crf is recommended.\n"
     ]
    }
   ],
   "source": [
    "vr.record([0,16])\n"
   ]
  },
  {
   "cell_type": "code",
   "execution_count": 17,
   "metadata": {},
   "outputs": [
    {
     "name": "stdout",
     "output_type": "stream",
     "text": [
      "[0.  0.  0.  0.  0.5 0.  0.  0.  0.  0.  0.  0.  0.5 0.  0.  0.5 0.  0.\n",
      " 0.  0. ]\n",
      "(array([ 4, 12, 15]),)\n",
      "Record video in video/tests/fp_plus_all/throw.mp4\n"
     ]
    },
    {
     "name": "stderr",
     "output_type": "stream",
     "text": [
      "[libx264 @ 0x15d49a40] -qscale is ignored, -crf is recommended.\n"
     ]
    }
   ],
   "source": [
    "sr_eps_throw = infos[\"Throw\"][\"success_rates_eps\"]\n",
    "u_vals_throw, u_idcs_throw = np.unique(sr_eps_throw, return_index=True)\n",
    "one_succ_idcs = np.where(sr_eps_throw == 0.5)\n",
    "print(sr_eps_throw)\n",
    "print(one_succ_idcs)\n",
    "vr_throw = VideoRecorder(rollouts[\"Throw\"], rm.get_env(\"Throw\"), \"video/tests/fp_plus_all\", name_prefix=\"throw\")\n",
    "vr_throw.record([4,15,16])"
   ]
  },
  {
   "cell_type": "code",
   "execution_count": null,
   "metadata": {},
   "outputs": [
    {
     "name": "stdout",
     "output_type": "stream",
     "text": [
      "/home/simonreif/cee-us\n"
     ]
    }
   ],
   "source": [
    "%cd /home/simonreif/cee-us\n",
    "#% cd ../../../\n",
    "import smart_settings\n",
    "import os\n",
    "from mbrl.offline_helpers.checkpoints import get_fb_controller, get_zr_dict, get_goals_dict\n",
    "from mbrl import allogger\n",
    "from mbrl.environments import env_from_string\n",
    "from mbrl.helpers import gen_rollouts\n",
    "from mbrl.rollout_utils import RolloutManager\n",
    "from mbrl.rolloutbuffer import RolloutBuffer\n",
    "from mbrl.torch_helpers import to_tensor\n",
    "# allogger.basic_configure(\n",
    "#         logdir=\"sandbox/cluster_test_main_offline\",\n",
    "#         default_outputs=[\"tensorboard\"],\n",
    "#         manual_flush=True,\n",
    "#         tensorboard_writer_params=dict(min_time_diff_btw_disc_writes=1),\n",
    "#         )\n",
    "# res_dir = \"results/cee_us/construction/2blocks/03_25/discount90\"\n",
    "# cp_dir = \"results/cee_us/construction/2blocks/03_25/discount90/checkpoint_2700000\"\n",
    "# res_dir = \"results/cee_us/construction/2blocks/data_fpf/04_09/disc90\"\n",
    "# cp_dir = \"results/cee_us/construction/2blocks/data_fpf/04_09/disc90/checkpoint_2100000\"\n",
    "# res_dir = \"results/cee_us/construction/2blocks/fp_plus_all/05_12/fixed_goals\"\n",
    "# cp_dir = \"results/cee_us/construction/2blocks/fp_plus_all/05_12/fixed_goals/checkpoint_900000\"\n",
    "#iter=6000000\n",
    "cp_dir= \"results/cee_us/construction/2blocks/fp_plus_all/05_13/zdim50/checkpoint_2100000\"\n"
   ]
  },
  {
   "cell_type": "code",
   "execution_count": null,
   "metadata": {},
   "outputs": [],
   "source": [
    "# TODO:\n",
    "# list of dirs\n",
    "# load everyting for eval/vid\n",
    "# s_eval, display results\n",
    "# make eval buffer\n",
    "# videos / display metrics from eval buffer"
   ]
  },
  {
   "cell_type": "code",
   "execution_count": 4,
   "metadata": {},
   "outputs": [
    {
     "name": "stdout",
     "output_type": "stream",
     "text": [
      "compile False\n",
      "cudagraphs False\n",
      "{\n",
      "    \"append_data\": true,\n",
      "    \"append_data_eval\": false,\n",
      "    \"checkpoints\": {\n",
      "        \"load\": false,\n",
      "        \"restart_every_n_iter\": null,\n",
      "        \"save\": true,\n",
      "        \"save_every_n_iter\": 50\n",
      "    },\n",
      "    \"controller\": \"fb\",\n",
      "    \"controller_params\": {\n",
      "        \"compile\": false,\n",
      "        \"cudagraphs\": false,\n",
      "        \"model\": {\n",
      "            \"action_dim\": 4,\n",
      "            \"actor_std\": 0.2,\n",
      "            \"archi\": {\n",
      "                \"actor\": {\n",
      "                    \"embedding_layers\": 2,\n",
      "                    \"hidden_dim\": 1024,\n",
      "                    \"hidden_layers\": 1,\n",
      "                    \"model\": \"simple\"\n",
      "                },\n",
      "                \"b\": {\n",
      "                    \"hidden_dim\": 256,\n",
      "                    \"hidden_layers\": 2,\n",
      "                    \"norm\": true\n",
      "                },\n",
      "                \"f\": {\n",
      "                    \"embedding_layers\": 2,\n",
      "                    \"ensemble_mode\": \"batch\",\n",
      "                    \"hidden_dim\": 1024,\n",
      "                    \"hidden_layers\": 1,\n",
      "                    \"model\": \"simple\",\n",
      "                    \"num_parallel\": 2\n",
      "                },\n",
      "                \"norm_z\": true,\n",
      "                \"z_dim\": 50\n",
      "            },\n",
      "            \"inference_batch_size\": 500000,\n",
      "            \"norm_obs\": false,\n",
      "            \"norm_with_entire_buffer\": true,\n",
      "            \"obs_dim\": 34,\n",
      "            \"seq_length\": 1\n",
      "        },\n",
      "        \"train\": {\n",
      "            \"actor_pessimism_penalty\": 0.5,\n",
      "            \"actor_reg_coef\": 0.01,\n",
      "            \"batch_size\": 1024,\n",
      "            \"clip_grad_norm\": 0.0,\n",
      "            \"discount\": 0.9,\n",
      "            \"eps\": 1e-05,\n",
      "            \"fb_pessimism_penalty\": 0,\n",
      "            \"fb_target_tau\": 0.01,\n",
      "            \"lr_actor\": 0.0001,\n",
      "            \"lr_b\": 0.0001,\n",
      "            \"lr_f\": 0.0001,\n",
      "            \"ortho_coef\": 1,\n",
      "            \"q_loss_coef\": 0.0,\n",
      "            \"stddev_clip\": 0.3,\n",
      "            \"train_goal_ratio\": 0.5,\n",
      "            \"weight_decay\": 0.0\n",
      "        }\n",
      "    },\n",
      "    \"debug\": false,\n",
      "    \"device\": \"cuda:0\",\n",
      "    \"env\": \"FetchPickAndPlaceConstruction\",\n",
      "    \"env_params\": {\n",
      "        \"case\": \"Singletower\",\n",
      "        \"num_blocks\": 2,\n",
      "        \"shaped_reward\": true,\n",
      "        \"sparse\": false,\n",
      "        \"stack_only\": true,\n",
      "        \"visualize_mocap\": false,\n",
      "        \"visualize_target\": true\n",
      "    },\n",
      "    \"eval\": {\n",
      "        \"eval_every_steps\": 100000,\n",
      "        \"eval_tasks\": [\n",
      "            \"PickAndPlace\",\n",
      "            \"Singletower\",\n",
      "            \"Throw\",\n",
      "            \"Flip\",\n",
      "            \"Reach\"\n",
      "        ],\n",
      "        \"num_inference_goals\": 500,\n",
      "        \"num_inference_samples\": 50000\n",
      "    },\n",
      "    \"eval_envs\": {\n",
      "        \"Flip\": {\n",
      "            \"env\": \"FetchPickAndPlaceConstruction\",\n",
      "            \"env_params\": {\n",
      "                \"case\": \"Flip\",\n",
      "                \"num_blocks\": 2,\n",
      "                \"shaped_reward\": true,\n",
      "                \"sparse\": true,\n",
      "                \"stack_only\": false,\n",
      "                \"visualize_mocap\": false\n",
      "            },\n",
      "            \"rollout_params\": {\n",
      "                \"task_horizon\": 500\n",
      "            }\n",
      "        },\n",
      "        \"PickAndPlace\": {\n",
      "            \"env\": \"FetchPickAndPlaceConstruction\",\n",
      "            \"env_params\": {\n",
      "                \"case\": \"PickAndPlace\",\n",
      "                \"num_blocks\": 2,\n",
      "                \"shaped_reward\": false,\n",
      "                \"sparse\": false,\n",
      "                \"stack_only\": false,\n",
      "                \"visualize_mocap\": false,\n",
      "                \"visualize_target\": true\n",
      "            },\n",
      "            \"rollout_params\": {\n",
      "                \"task_horizon\": 400\n",
      "            }\n",
      "        },\n",
      "        \"Reach\": {\n",
      "            \"env\": \"FetchPickAndPlaceConstruction\",\n",
      "            \"env_params\": {\n",
      "                \"case\": \"Reach\",\n",
      "                \"num_blocks\": 2,\n",
      "                \"shaped_reward\": false,\n",
      "                \"sparse\": false,\n",
      "                \"stack_only\": false,\n",
      "                \"visualize_mocap\": false,\n",
      "                \"visualize_target\": true\n",
      "            },\n",
      "            \"rollout_params\": {\n",
      "                \"task_horizon\": 100\n",
      "            }\n",
      "        },\n",
      "        \"Singletower\": {\n",
      "            \"env\": \"FetchPickAndPlaceConstruction\",\n",
      "            \"env_params\": {\n",
      "                \"case\": \"Singletower\",\n",
      "                \"num_blocks\": 2,\n",
      "                \"shaped_reward\": true,\n",
      "                \"sparse\": false,\n",
      "                \"stack_only\": true,\n",
      "                \"visualize_mocap\": false,\n",
      "                \"visualize_target\": true\n",
      "            },\n",
      "            \"rollout_params\": {\n",
      "                \"task_horizon\": 600\n",
      "            }\n",
      "        },\n",
      "        \"Throw\": {\n",
      "            \"env\": \"FetchPickAndPlaceConstruction\",\n",
      "            \"env_params\": {\n",
      "                \"case\": \"Slide\",\n",
      "                \"num_blocks\": 2,\n",
      "                \"shaped_reward\": false,\n",
      "                \"sparse\": false,\n",
      "                \"stack_only\": true,\n",
      "                \"visualize_mocap\": false,\n",
      "                \"visualize_target\": true\n",
      "            },\n",
      "            \"rollout_params\": {\n",
      "                \"task_horizon\": 200\n",
      "            }\n",
      "        }\n",
      "    },\n",
      "    \"evaluation_rollouts\": 0,\n",
      "    \"forward_model\": \"none\",\n",
      "    \"initial_controller\": \"none\",\n",
      "    \"initial_controller_params\": {},\n",
      "    \"initial_number_of_rollouts\": 0,\n",
      "    \"log_every_updates\": 10000,\n",
      "    \"logging\": {\n",
      "        \"project\": \"cee-us\"\n",
      "    },\n",
      "    \"model_breakdown_above\": 0.1,\n",
      "    \"num_train_steps\": 3000000,\n",
      "    \"number_of_rollouts\": 10,\n",
      "    \"plot_model_accuracy\": false,\n",
      "    \"post_controller_learning_hooks\": [],\n",
      "    \"post_mainloop_hooks\": [],\n",
      "    \"post_model_learning_hooks\": [],\n",
      "    \"post_rollout_hooks\": [],\n",
      "    \"pre_controller_learning_hooks\": [],\n",
      "    \"pre_mainloop_hooks\": [],\n",
      "    \"pre_model_learning_hooks\": [],\n",
      "    \"pre_rollout_hooks\": [],\n",
      "    \"rollout_params\": {\n",
      "        \"logging\": true,\n",
      "        \"only_final_reward\": false,\n",
      "        \"record\": false,\n",
      "        \"render\": false,\n",
      "        \"render_eval\": false,\n",
      "        \"render_initial\": false,\n",
      "        \"task_horizon\": 100,\n",
      "        \"use_env_states\": true\n",
      "    },\n",
      "    \"seed\": 3479728101,\n",
      "    \"training_data\": {\n",
      "        \"cee_us_freeplay\": {\n",
      "            \"dir\": \"results/cee_us/construction/2blocks/gnn_ensemble_cee_us_freeplay/checkpoints_225\",\n",
      "            \"max_episodes\": false,\n",
      "            \"weight\": 4.0\n",
      "        },\n",
      "        \"planner_flip\": {\n",
      "            \"dir\": \"results/cee_us/zero_shot/2blocks/225iters/flip_4500/gnn_ensemble_icem/checkpoints_000/filtered\",\n",
      "            \"max_episodes\": 1500,\n",
      "            \"weight\": 1.0\n",
      "        },\n",
      "        \"planner_pp\": {\n",
      "            \"dir\": \"results/cee_us/zero_shot/2blocks/225iters/pp_4500/gnn_ensemble_icem/checkpoints_000/filtered\",\n",
      "            \"max_episodes\": 1500,\n",
      "            \"weight\": 1.0\n",
      "        },\n",
      "        \"planner_stack\": {\n",
      "            \"dir\": \"results/cee_us/zero_shot/2blocks/225iters/stack_4500/gnn_ensemble_icem/checkpoints_000/filtered\",\n",
      "            \"max_episodes\": 1500,\n",
      "            \"weight\": 1.0\n",
      "        },\n",
      "        \"planner_throw\": {\n",
      "            \"dir\": \"results/cee_us/zero_shot/2blocks/225iters/throw_4500/gnn_ensemble_icem/checkpoints_000/filtered\",\n",
      "            \"max_episodes\": 1500,\n",
      "            \"weight\": 1.0\n",
      "        }\n",
      "    },\n",
      "    \"training_data_dir\": \"results/cee_us/construction/2blocks/gnn_ensemble_cee_us_freeplay/checkpoints_225\",\n",
      "    \"training_data_names\": [\n",
      "        \"cee_us_freeplay\",\n",
      "        \"planner_flip\",\n",
      "        \"planner_pp\",\n",
      "        \"planner_stack\",\n",
      "        \"planner_throw\"\n",
      "    ],\n",
      "    \"training_iterations\": 500,\n",
      "    \"working_dir\": \"results/cee_us/construction/2blocks/fp_plus_all/05_13/zdim50\"\n",
      "}\n"
     ]
    }
   ],
   "source": [
    "controller = get_fb_controller(cp_dir=cp_dir)\n",
    "params = smart_settings.load(os.path.join(os.path.dirname(cp_dir), 'settings.json'), make_immutable=False)\n",
    "zr_dict = get_zr_dict(cp_dir)\n",
    "#goals_dict = get_goals_dict(cp_dir)\n",
    "print(params)"
   ]
  },
  {
   "cell_type": "code",
   "execution_count": null,
   "metadata": {},
   "outputs": [],
   "source": []
  },
  {
   "cell_type": "code",
   "execution_count": null,
   "metadata": {},
   "outputs": [
    {
     "name": "stdout",
     "output_type": "stream",
     "text": [
      "Evaluating on task Flip with horizon 500\n"
     ]
    },
    {
     "name": "stderr",
     "output_type": "stream",
     "text": [
      "time_steps: 100%|██████████| 500/500 [00:55<00:00,  8.96it/s, ret=-545]\n",
      "time_steps: 100%|██████████| 500/500 [01:03<00:00,  7.88it/s, ret=-1.01e+3]\n",
      "time_steps: 100%|██████████| 500/500 [01:04<00:00,  7.79it/s, ret=-951]7]\n",
      "time_steps: 100%|██████████| 500/500 [01:01<00:00,  8.19it/s, ret=-590]5]\n",
      "time_steps: 100%|██████████| 500/500 [00:43<00:00, 11.50it/s, ret=-1.01e+3]\n",
      "time_steps: 100%|██████████| 500/500 [00:43<00:00, 11.45it/s, ret=-1e+3]]\n",
      "time_steps: 100%|██████████| 500/500 [00:46<00:00, 10.79it/s, ret=-549]1]\n",
      "time_steps: 100%|██████████| 500/500 [00:45<00:00, 10.90it/s, ret=-510]8]\n",
      "time_steps: 100%|██████████| 500/500 [00:43<00:00, 11.52it/s, ret=-522]0]\n",
      "time_steps: 100%|██████████| 500/500 [00:47<00:00, 10.49it/s, ret=406]43]\n",
      "rollout_num: 100%|██████████| 10/10 [08:36<00:00, 51.61s/it, avg-ret=-743]\n"
     ]
    }
   ],
   "source": [
    "\n",
    "params.rollout_params.render = False\n",
    "params.number_of_rollouts = 10\n",
    "\n",
    "#tasks = [\"PickAndPlace\", \"Flip\", \"Throw\", \"Singletower\"]\n",
    "tasks = [\"Flip\"]\n",
    "rollout_buffers = {}\n",
    "for task in tasks:\n",
    "    task_params=params.eval_envs[task]\n",
    "    env=task_params.env\n",
    "    env_params=task_params.env_params\n",
    "    env = env_from_string(env, **env_params)\n",
    "    params.rollout_params.task_horizon = task_params.rollout_params.task_horizon\n",
    "    print(f\"Evaluating on task {task} with horizon {params.rollout_params.task_horizon}\")\n",
    "    rollout_man = RolloutManager(env, params.rollout_params)\n",
    "    z_r = zr_dict[task]\n",
    "    z_r = to_tensor(z_r)\n",
    "    #z_r = controller._model.sample_z(1)[0]\n",
    "    controller.set_zr(z_r)\n",
    "    #TODO: set goal\n",
    "    rollout_buffer = RolloutBuffer()\n",
    "    rollout_buffer = gen_rollouts(\n",
    "            params,\n",
    "            rollout_man,\n",
    "            controller,\n",
    "            None, #initial_controller\n",
    "            rollout_buffer,\n",
    "            None, #forward_model\n",
    "            None, #iteration\n",
    "            False, #do_initial_rollouts\n",
    "        )\n",
    "    rollout_buffers[task] = rollout_buffer"
   ]
  },
  {
   "cell_type": "code",
   "execution_count": null,
   "metadata": {},
   "outputs": [
    {
     "name": "stdout",
     "output_type": "stream",
     "text": [
      "Record video in video/rolloutagent07_task_Flip.mp4\n",
      "0 3 10\n"
     ]
    },
    {
     "name": "stderr",
     "output_type": "stream",
     "text": [
      "[libx264 @ 0x16641a40] -qscale is ignored, -crf is recommended.\n"
     ]
    }
   ],
   "source": [
    "import imageio\n",
    "\n",
    "#TODO: change naming\n",
    "def setup_video(output_path, name_suffix, name_prefix, fps, infix=\"\"):\n",
    "    #infix= \"rollout\"\n",
    "    os.makedirs(output_path, exist_ok=True)\n",
    "    file_path = os.path.join(output_path, f\"{name_prefix}{infix}{name_suffix}.mp4\")\n",
    "    i = 0\n",
    "    while os.path.isfile(file_path):\n",
    "        i += 1\n",
    "        file_path = os.path.join(output_path, f\"{name_prefix}{infix}{name_suffix}_{i}.mp4\")\n",
    "    print(\"Record video in {}\".format(file_path))\n",
    "    return (\n",
    "        imageio.get_writer(file_path, fps=fps, codec=\"h264\", quality=10, pixelformat=\"yuv420p\"), #yuv420p, yuvj422p\n",
    "        file_path,\n",
    "    )\n",
    "\n",
    "\n",
    "task = \"Flip\"\n",
    "video, video_path = setup_video(\"video\", f\"agent07_task_{task}\", \"\", env.get_fps())\n",
    "buffer=rollout_buffers[task]\n",
    "ep_length = buffer[0][\"observations\"].shape[0]\n",
    "\n",
    "number_of_rollouts = 3\n",
    "\n",
    "render_width = 768\n",
    "render_height = 512\n",
    "\n",
    "#ep_id = iteration * params.number_of_rollouts \n",
    "ep_id = 0\n",
    "print(ep_id, ep_id+number_of_rollouts, len(buffer))\n",
    "for i in range(ep_id, min(ep_id + number_of_rollouts, len(buffer))):\n",
    "    obs = env.reset()\n",
    "    for t in range(ep_length):\n",
    "        if env.name == \"PlaygroundwGoals\":\n",
    "            env.set_state_from_observation(buffer[i][\"observations\"][t, :])\n",
    "        else:\n",
    "            # Robotics environments require setting the whole env state for replay!\n",
    "            env.set_GT_state(buffer[i][\"env_states\"][t, :])\n",
    "        frame = env.render(\"rgb_array\", render_width, render_height)\n",
    "        video.append_data(frame)\n",
    "        if env.name == \"FetchPickAndPlaceConstruction\":\n",
    "            del env.viewer._markers[:]\n",
    "\n",
    "video.close()"
   ]
  },
  {
   "cell_type": "code",
   "execution_count": null,
   "metadata": {},
   "outputs": [],
   "source": []
  }
 ],
 "metadata": {
  "kernelspec": {
   "display_name": "mbrl",
   "language": "python",
   "name": "python3"
  },
  "language_info": {
   "codemirror_mode": {
    "name": "ipython",
    "version": 3
   },
   "file_extension": ".py",
   "mimetype": "text/x-python",
   "name": "python",
   "nbconvert_exporter": "python",
   "pygments_lexer": "ipython3",
   "version": "3.8.20"
  }
 },
 "nbformat": 4,
 "nbformat_minor": 2
}
