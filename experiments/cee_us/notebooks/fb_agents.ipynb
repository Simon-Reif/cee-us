{
 "cells": [
  {
   "cell_type": "code",
   "execution_count": 1,
   "metadata": {},
   "outputs": [
    {
     "name": "stdout",
     "output_type": "stream",
     "text": [
      "/home/simonreif/cee-us\n"
     ]
    }
   ],
   "source": [
    "%cd ../../../\n",
    "import smart_settings\n",
    "import os\n",
    "from mbrl.offline_helpers.checkpoints import get_fb_controller\n",
    "res_dir = \"results/cee_us/construction/2blocks/test_main_offline\""
   ]
  },
  {
   "cell_type": "code",
   "execution_count": 3,
   "metadata": {},
   "outputs": [
    {
     "name": "stdout",
     "output_type": "stream",
     "text": [
      "{\n",
      "    \"compile\": false,\n",
      "    \"cudagraphs\": false,\n",
      "    \"model\": {\n",
      "        \"action_dim\": 4,\n",
      "        \"actor_std\": 0.2,\n",
      "        \"archi\": {\n",
      "            \"actor\": {\n",
      "                \"embedding_layers\": 2,\n",
      "                \"hidden_dim\": 1024,\n",
      "                \"hidden_layers\": 1,\n",
      "                \"model\": \"simple\"\n",
      "            },\n",
      "            \"b\": {\n",
      "                \"hidden_dim\": 256,\n",
      "                \"hidden_layers\": 2,\n",
      "                \"norm\": true\n",
      "            },\n",
      "            \"f\": {\n",
      "                \"embedding_layers\": 2,\n",
      "                \"ensemble_mode\": \"batch\",\n",
      "                \"hidden_dim\": 1024,\n",
      "                \"hidden_layers\": 1,\n",
      "                \"model\": \"simple\",\n",
      "                \"num_parallel\": 2\n",
      "            },\n",
      "            \"norm_z\": true,\n",
      "            \"z_dim\": 100\n",
      "        },\n",
      "        \"inference_batch_size\": 500000,\n",
      "        \"norm_obs\": false,\n",
      "        \"obs_dim\": 43,\n",
      "        \"seq_length\": 1\n",
      "    },\n",
      "    \"train\": {\n",
      "        \"actor_pessimism_penalty\": 0.5,\n",
      "        \"actor_reg_coef\": 0.01,\n",
      "        \"batch_size\": 1024,\n",
      "        \"clip_grad_norm\": 0.0,\n",
      "        \"discount\": 0.98,\n",
      "        \"fb_pessimism_penalty\": 0,\n",
      "        \"fb_target_tau\": 0.01,\n",
      "        \"lr_actor\": 0.0001,\n",
      "        \"lr_b\": 0.0001,\n",
      "        \"lr_f\": 0.0001,\n",
      "        \"ortho_coef\": 1,\n",
      "        \"q_loss_coef\": 0.0,\n",
      "        \"stddev_clip\": 0.3,\n",
      "        \"train_goal_ratio\": 0.5,\n",
      "        \"weight_decay\": 0.0\n",
      "    }\n",
      "}\n",
      "compile False\n",
      "cudagraphs False\n"
     ]
    }
   ],
   "source": [
    "iter = 2\n",
    "controller = get_fb_controller(res_dir, iter)"
   ]
  },
  {
   "cell_type": "code",
   "execution_count": 4,
   "metadata": {},
   "outputs": [
    {
     "name": "stdout",
     "output_type": "stream",
     "text": [
      "FBModel(\n",
      "  (_backward_map): BackwardMap(\n",
      "    (net): Sequential(\n",
      "      (0): Linear(in_features=43, out_features=256, bias=True)\n",
      "      (1): LayerNorm((256,), eps=1e-05, elementwise_affine=True)\n",
      "      (2): Tanh()\n",
      "      (3): Linear(in_features=256, out_features=256, bias=True)\n",
      "      (4): ReLU()\n",
      "      (5): Linear(in_features=256, out_features=100, bias=True)\n",
      "      (6): Norm()\n",
      "    )\n",
      "  )\n",
      "  (_forward_map): ForwardMap(\n",
      "    (embed_z): Sequential(\n",
      "      (0): DenseParallel(in_features=143, out_features=1024, n_parallel=2, bias=True)\n",
      "      (1): ParallelLayerNorm([1024], eps=1e-05, elementwise_affine=True)\n",
      "      (2): Tanh()\n",
      "      (3): DenseParallel(in_features=1024, out_features=512, n_parallel=2, bias=True)\n",
      "      (4): ReLU()\n",
      "    )\n",
      "    (embed_sa): Sequential(\n",
      "      (0): DenseParallel(in_features=47, out_features=1024, n_parallel=2, bias=True)\n",
      "      (1): ParallelLayerNorm([1024], eps=1e-05, elementwise_affine=True)\n",
      "      (2): Tanh()\n",
      "      (3): DenseParallel(in_features=1024, out_features=512, n_parallel=2, bias=True)\n",
      "      (4): ReLU()\n",
      "    )\n",
      "    (Fs): Sequential(\n",
      "      (0): DenseParallel(in_features=1024, out_features=1024, n_parallel=2, bias=True)\n",
      "      (1): ReLU()\n",
      "      (2): DenseParallel(in_features=1024, out_features=100, n_parallel=2, bias=True)\n",
      "    )\n",
      "  )\n",
      "  (_actor): Actor(\n",
      "    (embed_z): Sequential(\n",
      "      (0): Linear(in_features=143, out_features=1024, bias=True)\n",
      "      (1): LayerNorm((1024,), eps=1e-05, elementwise_affine=True)\n",
      "      (2): Tanh()\n",
      "      (3): Linear(in_features=1024, out_features=512, bias=True)\n",
      "      (4): ReLU()\n",
      "    )\n",
      "    (embed_s): Sequential(\n",
      "      (0): Linear(in_features=43, out_features=1024, bias=True)\n",
      "      (1): LayerNorm((1024,), eps=1e-05, elementwise_affine=True)\n",
      "      (2): Tanh()\n",
      "      (3): Linear(in_features=1024, out_features=512, bias=True)\n",
      "      (4): ReLU()\n",
      "    )\n",
      "    (policy): Sequential(\n",
      "      (0): Linear(in_features=1024, out_features=1024, bias=True)\n",
      "      (1): ReLU()\n",
      "      (2): Linear(in_features=1024, out_features=4, bias=True)\n",
      "    )\n",
      "  )\n",
      "  (_obs_normalizer): Identity()\n",
      "  (_target_backward_map): BackwardMap(\n",
      "    (net): Sequential(\n",
      "      (0): Linear(in_features=43, out_features=256, bias=True)\n",
      "      (1): LayerNorm((256,), eps=1e-05, elementwise_affine=True)\n",
      "      (2): Tanh()\n",
      "      (3): Linear(in_features=256, out_features=256, bias=True)\n",
      "      (4): ReLU()\n",
      "      (5): Linear(in_features=256, out_features=100, bias=True)\n",
      "      (6): Norm()\n",
      "    )\n",
      "  )\n",
      "  (_target_forward_map): ForwardMap(\n",
      "    (embed_z): Sequential(\n",
      "      (0): DenseParallel(in_features=143, out_features=1024, n_parallel=2, bias=True)\n",
      "      (1): ParallelLayerNorm([1024], eps=1e-05, elementwise_affine=True)\n",
      "      (2): Tanh()\n",
      "      (3): DenseParallel(in_features=1024, out_features=512, n_parallel=2, bias=True)\n",
      "      (4): ReLU()\n",
      "    )\n",
      "    (embed_sa): Sequential(\n",
      "      (0): DenseParallel(in_features=47, out_features=1024, n_parallel=2, bias=True)\n",
      "      (1): ParallelLayerNorm([1024], eps=1e-05, elementwise_affine=True)\n",
      "      (2): Tanh()\n",
      "      (3): DenseParallel(in_features=1024, out_features=512, n_parallel=2, bias=True)\n",
      "      (4): ReLU()\n",
      "    )\n",
      "    (Fs): Sequential(\n",
      "      (0): DenseParallel(in_features=1024, out_features=1024, n_parallel=2, bias=True)\n",
      "      (1): ReLU()\n",
      "      (2): DenseParallel(in_features=1024, out_features=100, n_parallel=2, bias=True)\n",
      "    )\n",
      "  )\n",
      ")\n"
     ]
    }
   ],
   "source": [
    "print(controller._model)"
   ]
  },
  {
   "cell_type": "code",
   "execution_count": null,
   "metadata": {},
   "outputs": [],
   "source": []
  }
 ],
 "metadata": {
  "kernelspec": {
   "display_name": "mbrl",
   "language": "python",
   "name": "python3"
  },
  "language_info": {
   "codemirror_mode": {
    "name": "ipython",
    "version": 3
   },
   "file_extension": ".py",
   "mimetype": "text/x-python",
   "name": "python",
   "nbconvert_exporter": "python",
   "pygments_lexer": "ipython3",
   "version": "3.8.20"
  }
 },
 "nbformat": 4,
 "nbformat_minor": 2
}
