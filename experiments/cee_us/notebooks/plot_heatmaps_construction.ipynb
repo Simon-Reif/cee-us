{
 "cells": [
  {
   "cell_type": "code",
   "execution_count": null,
   "id": "d1aef555",
   "metadata": {},
   "outputs": [],
   "source": [
    "%cd ../../.."
   ]
  },
  {
   "cell_type": "code",
   "execution_count": 2,
   "id": "8b4ec70a",
   "metadata": {},
   "outputs": [],
   "source": [
    "import os\n",
    "import torch\n",
    "import numpy as np\n",
    "import pickle\n",
    "\n",
    "import matplotlib.pyplot as plt\n",
    "import seaborn as sns\n",
    "from mpl_toolkits.axes_grid1 import make_axes_locatable\n",
    "\n",
    "import smart_settings\n",
    "\n",
    "from mbrl import allogger\n",
    "from mbrl.models import forward_model_from_string\n",
    "from mbrl.environments import env_from_string\n",
    "from mbrl import torch_helpers\n",
    "from mbrl.controllers.abstract_controller import OpenLoopPolicy\n",
    "from mbrl.rolloutbuffer import RolloutBuffer\n",
    "from mbrl.rolloutbuffer import SimpleRolloutBuffer \n",
    "from mbrl.seeding import Seeding\n",
    "\n",
    "device = torch.device(\"cuda:0\")\n",
    "torch_helpers.device = device\n"
   ]
  },
  {
   "cell_type": "code",
   "execution_count": 3,
   "id": "105edc0d",
   "metadata": {},
   "outputs": [],
   "source": [
    "Seeding.set_seed(134734)"
   ]
  },
  {
   "cell_type": "code",
   "execution_count": 4,
   "id": "3f8be8a7",
   "metadata": {},
   "outputs": [],
   "source": [
    "env_params = {\n",
    "  \"env\": \"FetchPickAndPlaceConstruction\",\n",
    "  \"env_params\": {\n",
    "    \"sparse\": True,\n",
    "    \"shaped_reward\": True,\n",
    "    \"num_blocks\": 4,\n",
    "    \"stack_only\": True,\n",
    "    \"case\": \"Singletower\",\n",
    "    \"visualize_target\": False,\n",
    "    \"visualize_mocap\": False\n",
    "  },\n",
    "}\n",
    "env = env_from_string(\"FetchPickAndPlaceConstruction\", **env_params[\"env_params\"])"
   ]
  },
  {
   "cell_type": "code",
   "execution_count": 5,
   "id": "021218f1",
   "metadata": {},
   "outputs": [],
   "source": [
    "def load_model(path, checkpoint_suffix, env):\n",
    "    params = smart_settings.load(os.path.join(path, 'settings.json'), make_immutable=False)\n",
    "    forward_model = forward_model_from_string(params.forward_model)(\n",
    "            env=env, **params.forward_model_params\n",
    "        )\n",
    "    forward_model.load(os.path.join(path, 'checkpoints' + checkpoint_suffix, 'forward_model'))\n",
    "    print(f\"Loading model from checkpoint {checkpoint_suffix}!\")\n",
    "    return forward_model"
   ]
  },
  {
   "cell_type": "code",
   "execution_count": 6,
   "id": "c326ccd2",
   "metadata": {},
   "outputs": [],
   "source": [
    "model_path = \"results/cee_us/construction/gnn_ensemble_cee_us_freeplay\"\n",
    "params = smart_settings.load(os.path.join(model_path,'settings.json'), make_immutable=False)\n",
    "params['working_dir'] = '/tmp/test'"
   ]
  },
  {
   "cell_type": "code",
   "execution_count": 7,
   "id": "1abfa80e",
   "metadata": {},
   "outputs": [],
   "source": [
    "assert params['working_dir'] == '/tmp/test'\n",
    "allogger.basic_configure(logdir=params.working_dir, default_outputs=['hdf'],\n",
    "                         hdf_writer_params=dict(min_time_diff_btw_disc_writes=1))"
   ]
  },
  {
   "cell_type": "code",
   "execution_count": 8,
   "id": "4e69ef0b",
   "metadata": {},
   "outputs": [],
   "source": [
    "initial_obs = env.reset()"
   ]
  },
  {
   "cell_type": "code",
   "execution_count": 9,
   "id": "4b8e34c7",
   "metadata": {},
   "outputs": [],
   "source": [
    "## RUN THE FOLLOWING ONLY IF YOU DIDN'T UNSET LD_PRELOAD!\n",
    "\n",
    "# from mujoco_py import GlfwContext\n",
    "# GlfwContext(offscreen=True)"
   ]
  },
  {
   "cell_type": "code",
   "execution_count": 10,
   "id": "3668a431",
   "metadata": {},
   "outputs": [],
   "source": [
    "fig_path = \"\"\n",
    "save_fig = False"
   ]
  },
  {
   "cell_type": "code",
   "execution_count": 11,
   "id": "d6347100",
   "metadata": {},
   "outputs": [],
   "source": [
    "env.set_state_from_observation(initial_obs)"
   ]
  },
  {
   "cell_type": "markdown",
   "id": "9d770ec7",
   "metadata": {},
   "source": [
    "## Make robot invisible for rendering!"
   ]
  },
  {
   "cell_type": "code",
   "execution_count": 12,
   "id": "fbde4b03",
   "metadata": {},
   "outputs": [],
   "source": [
    "for geom_name in env.sim.model.geom_names:\n",
    "    if \"robot0\" in geom_name or \"gripper\" in geom_name:\n",
    "        geom_id = env.sim.model.geom_name2id(geom_name)\n",
    "        env.sim.model.geom_rgba[geom_id, 3] = 0."
   ]
  },
  {
   "cell_type": "code",
   "execution_count": 13,
   "id": "33180947",
   "metadata": {},
   "outputs": [],
   "source": [
    "def render_rgb_array_with_cam(env, width, height, camera_name):\n",
    "    env._render_callback()\n",
    "    data = env.sim.render(width, height, camera_name=camera_name)  # options: fixed (camera from front)\n",
    "    # original image is upside-down, so flip it\n",
    "    return data[::-1, :, :]"
   ]
  },
  {
   "cell_type": "markdown",
   "id": "4e06ffa3",
   "metadata": {},
   "source": [
    "## Render current state of environment from top camera"
   ]
  },
  {
   "cell_type": "code",
   "execution_count": 14,
   "id": "f2e847e4",
   "metadata": {},
   "outputs": [
    {
     "data": {
      "image/png": "[encoded data removed]",
      "text/plain": [
       "<Figure size 250x250 with 1 Axes>"
      ]
     },
     "metadata": {},
     "output_type": "display_data"
    }
   ],
   "source": [
    "real_env_img = render_rgb_array_with_cam(env, width=1000, height=1000, camera_name='top_cam')\n",
    "fig, ax = plt.subplots(1, 1, figsize=(2.5,2.5))\n",
    "ax.imshow(real_env_img)\n",
    "\n",
    "ax.axis('off')\n",
    "fig.tight_layout()\n",
    "\n",
    "if save_fig:\n",
    "    fig.savefig(os.path.join(fig_path,\"environment_top.png\"), dpi=600)"
   ]
  },
  {
   "cell_type": "markdown",
   "id": "a8e61114",
   "metadata": {},
   "source": [
    "### Prepare variable for heatmap generation"
   ]
  },
  {
   "cell_type": "code",
   "execution_count": 15,
   "id": "68aa97d7",
   "metadata": {},
   "outputs": [],
   "source": [
    "robot_base_xy = np.array([0.69189994, 0.74409998])\n",
    "manipulability_r = 0.8531\n",
    "\n",
    "gripper_init = np.array([1.344,  0.749,  0.5319])"
   ]
  },
  {
   "cell_type": "code",
   "execution_count": 16,
   "id": "83330a41",
   "metadata": {},
   "outputs": [],
   "source": [
    "env.set_state_from_observation(initial_obs)"
   ]
  },
  {
   "cell_type": "code",
   "execution_count": 17,
   "id": "75c1abc9",
   "metadata": {},
   "outputs": [],
   "source": [
    "# Object locations\n",
    "# initial_obs[10:13], initial_obs[22:25], initial_obs[34:37], initial_obs[46:49]"
   ]
  },
  {
   "cell_type": "code",
   "execution_count": 18,
   "id": "727d73df",
   "metadata": {},
   "outputs": [],
   "source": [
    "def evaluate(obs, action, model):\n",
    "    if obs.ndim == 1 and action.ndim == 1:\n",
    "        obs = obs[None,...]\n",
    "        action = action[None,None,...] # assuming horizon is 1\n",
    "    elif obs.ndim == 1 and action.ndim == 2:\n",
    "        obs = np.tile(obs, (action.shape[0], 1))\n",
    "        action = action[:,None,:]\n",
    "    start_obs = torch.from_numpy(obs).float().to(device)\n",
    "    action_sequence = torch.from_numpy(action).float().to(device)\n",
    "    with torch.no_grad():\n",
    "        policy = OpenLoopPolicy(action_sequence)\n",
    "        out = model.predict_n_steps(start_observations=start_obs, start_states=None, policy=policy, horizon=1)[0]\n",
    "\n",
    "    return out"
   ]
  },
  {
   "cell_type": "markdown",
   "id": "e7437856",
   "metadata": {},
   "source": [
    "# Get epistemic uncertainty heatmaps GNN"
   ]
  },
  {
   "cell_type": "markdown",
   "id": "f64496af",
   "metadata": {},
   "source": [
    "### Specify for which checkpoint!"
   ]
  },
  {
   "cell_type": "code",
   "execution_count": 19,
   "id": "0f5157ac",
   "metadata": {},
   "outputs": [],
   "source": [
    "checkpoint_name = \"_299\""
   ]
  },
  {
   "cell_type": "markdown",
   "id": "9bbb3f38",
   "metadata": {},
   "source": [
    "### Generate 100 random actions to evaluate disagreement:"
   ]
  },
  {
   "cell_type": "code",
   "execution_count": 20,
   "id": "2f173d5a",
   "metadata": {},
   "outputs": [],
   "source": [
    "random_actions = np.random.uniform(-1.0, 1.0, (100,4))"
   ]
  },
  {
   "cell_type": "markdown",
   "id": "eb55f77a",
   "metadata": {},
   "source": [
    "### Generate the grid for evaluation:"
   ]
  },
  {
   "cell_type": "code",
   "execution_count": 21,
   "id": "c4ad992c",
   "metadata": {},
   "outputs": [],
   "source": [
    "nx, ny = (0.005, 0.005)\n",
    "\n",
    "x = np.arange(gripper_init[0]-0.4, gripper_init[0]+0.4+nx, nx)\n",
    "\n",
    "y = np.arange(gripper_init[1]-0.4, gripper_init[1]+0.4+ny, ny)\n",
    "\n",
    "yv, xv = np.meshgrid(y, x)"
   ]
  },
  {
   "cell_type": "markdown",
   "id": "1aaaa699",
   "metadata": {},
   "source": [
    "### Compute epistemic uncertainty heatmap:"
   ]
  },
  {
   "cell_type": "code",
   "execution_count": 22,
   "id": "b6cd4549",
   "metadata": {
    "scrolled": false
   },
   "outputs": [
    {
     "name": "stdout",
     "output_type": "stream",
     "text": [
      "Loading model from checkpoint _299!\n"
     ]
    }
   ],
   "source": [
    "uncertainties = []\n",
    "ensemble_model = load_model(\n",
    "    model_path,\n",
    "    checkpoint_name,\n",
    "    env\n",
    ")\n",
    "for id_m,(y,x) in enumerate(zip(yv.flatten(),xv.flatten())):\n",
    "    new_obs = initial_obs.copy()\n",
    "    new_obs[0] = x \n",
    "    new_obs[1] = y\n",
    "    new_obs[2] = 0.42\n",
    "    out = evaluate(new_obs, random_actions, ensemble_model)\n",
    "\n",
    "    ensemble_disagreement_all_dims = np.std(out['next_observations'].squeeze(-2).cpu().detach().numpy(), axis=1)\n",
    "    ensemble_disagreement_for_each_action = np.sum(ensemble_disagreement_all_dims, -1)\n",
    "    uncertainties.append(np.mean(ensemble_disagreement_for_each_action))\n",
    "\n",
    "uncertainty_map = np.reshape(np.asarray(uncertainties), xv.shape)\n",
    "    "
   ]
  },
  {
   "cell_type": "markdown",
   "id": "bc6f0cce",
   "metadata": {},
   "source": [
    "## Plot heatmap"
   ]
  },
  {
   "cell_type": "code",
   "execution_count": 23,
   "id": "20a31411",
   "metadata": {},
   "outputs": [],
   "source": [
    "plt.style.use('experiments/cee_us/hooks/post_rollout_hooks/prettyplots.mplstyle')\n",
    "colors = [(0.368, 0.507, 0.71), (0.881, 0.611, 0.142), (0.923, 0.386,0.209),\n",
    "          (0.56, 0.692, 0.195),(0.528, 0.471, 0.701), (0.772, 0.432,0.102),\n",
    "          (0.572, 0.586, 0.) ]\n",
    "\n",
    "from matplotlib.colors import LinearSegmentedColormap\n",
    "from matplotlib.ticker import FormatStrFormatter\n",
    "\n",
    "cmap = LinearSegmentedColormap.from_list(\"\", [(1., 1., 1.),colors[1],colors[2]])"
   ]
  },
  {
   "cell_type": "code",
   "execution_count": 24,
   "id": "c16d4ee0",
   "metadata": {},
   "outputs": [
    {
     "data": {
      "image/png": "[encoded data removed]",
      "text/plain": [
       "<Figure size 500x500 with 2 Axes>"
      ]
     },
     "metadata": {},
     "output_type": "display_data"
    }
   ],
   "source": [
    "fig, ax = plt.subplots(1, 1, figsize=(2.5,2.5))\n",
    "\n",
    "divider = make_axes_locatable(ax)\n",
    "cax = divider.append_axes(\"right\", size=\"5%\", pad=0.1)\n",
    "\n",
    "min_lim = np.min(uncertainty_map) \n",
    "max_lim = np.max(uncertainty_map) \n",
    "cbar_ticks = dict(ticks=[min_lim,\n",
    "                     (min_lim+max_lim)/2,\n",
    "                     max_lim]) \n",
    "\n",
    "sns.heatmap(uncertainty_map,\n",
    "            ax=ax,\n",
    "            cbar=True,\n",
    "            square=True,\n",
    "            xticklabels=False,\n",
    "            yticklabels=False,\n",
    "            linewidths=0.0, rasterized=True,\n",
    "            vmin=min_lim, vmax=max_lim,\n",
    "            cmap = cmap,\n",
    "            cbar_kws = cbar_ticks,\n",
    "           cbar_ax = cax,)\n",
    "\n",
    "cax.yaxis.set_major_formatter(FormatStrFormatter('%.1f'))\n",
    "fig.tight_layout()\n",
    "\n",
    "if save_fig:\n",
    "    fig.savefig(os.path.join(fig_path, f\"construction_epistemic_uncertainty_heatmap_cpt{checkpoint_name}.png\"), dpi=300)\n",
    "    # fig.savefig(os.path.join(fig_path, f\"construction_epistemic_uncertainty_heatmap_cpt{checkpoint_name}.svg\"))\n"
   ]
  },
  {
   "cell_type": "markdown",
   "id": "070065c9",
   "metadata": {},
   "source": [
    "## Following part is to get the pixel positions from world coordinates\n",
    "For correct visualization, for the world coordinates used for the grid in the uncertainty heatmap generation, we get the bounding box in the pixel coordinates "
   ]
  },
  {
   "cell_type": "code",
   "execution_count": 25,
   "id": "ada2319e",
   "metadata": {},
   "outputs": [],
   "source": [
    "from gym.envs.robotics.rotations import quat2mat\n",
    "import math\n",
    "\n",
    "def compute_cam_mat(render_width, render_height, camera_name):\n",
    "    assert camera_name in env.sim.model.camera_names\n",
    "    camera_id = env.sim.model.camera_name2id(camera_name)\n",
    "\n",
    "    R_cam2world = quat2mat(env.sim.model.cam_quat[camera_id])\n",
    "    T_cam2world = env.sim.model.cam_pos[camera_id]\n",
    "\n",
    "    fovy = env.sim.model.cam_fovy[camera_id]\n",
    "    fovy = (np.pi / 180) * fovy # convert to radians\n",
    "    f = 0.5 * render_height / math.tan(fovy / 2)\n",
    "    K_cam = np.array(((-f, 0, render_width / 2), (0, f, render_height / 2), (0, 0, 1)))       \n",
    "    return R_cam2world, T_cam2world, K_cam\n",
    "\n",
    "def get_center_of_mass_in_pixels(entity_positions, render_width, render_height, camera_name=\"top_cam\",\n",
    "                                 return_ratio=False):\n",
    "    R_cam2world, T_cam2world, K_cam = compute_cam_mat(render_width, render_height, camera_name)\n",
    "    # Return entity pos shape (num rollous x) episode_length x num_entities x 3\n",
    "    entity_positions_cam = np.transpose(R_cam2world) @ (entity_positions - T_cam2world)[...,np.newaxis]\n",
    "    # entity_positions_cam shape (num rollous x) episode_length x num_entities x 3 x 1 (the last axis for matrix mult.)\n",
    "    z_for_normalization = entity_positions_cam[...,2,0]\n",
    "    entity_positions_cam = entity_positions_cam/z_for_normalization[..., np.newaxis, np.newaxis]\n",
    "    pixel_loc = K_cam @ entity_positions_cam\n",
    "    pixel_loc = np.round(pixel_loc[...,0])\n",
    "    if return_ratio:\n",
    "        return pixel_loc[...,:2]/np.array([render_width,render_height])\n",
    "    else:\n",
    "        return pixel_loc[...,:2]\n"
   ]
  },
  {
   "cell_type": "code",
   "execution_count": 26,
   "id": "0ca43822",
   "metadata": {},
   "outputs": [],
   "source": [
    "positions = np.array([[xv[0,0],yv[0,0],0.42],[xv[-1,-1],yv[-1,-1],0.42]])\n",
    "corners = get_center_of_mass_in_pixels(positions,1000,1000)"
   ]
  },
  {
   "cell_type": "code",
   "execution_count": 27,
   "id": "b0ec6b20",
   "metadata": {
    "scrolled": false
   },
   "outputs": [
    {
     "data": {
      "image/png": "[encoded data removed]",
      "text/plain": [
       "<Figure size 500x500 with 1 Axes>"
      ]
     },
     "metadata": {},
     "output_type": "display_data"
    }
   ],
   "source": [
    "import matplotlib.patches as patches\n",
    "\n",
    "real_env_img = render_rgb_array_with_cam(env, width=1000, height=1000, camera_name='top_cam')\n",
    "fig, ax = plt.subplots(1, 1, figsize=(2.5,2.5))\n",
    "ax.imshow(real_env_img)\n",
    "\n",
    "box_width = corners[1,0] - corners[0,0]\n",
    "box_height = corners[1,1] - corners[0,1]\n",
    "rect = patches.Rectangle((corners[0,0], corners[0,1]),\n",
    "                         box_width, box_height, linewidth=1.5, edgecolor='black', facecolor='none')\n",
    "ax.add_patch(rect)\n",
    "ax.axis('off')\n",
    "fig.tight_layout()\n",
    "if save_fig:\n",
    "    fig.savefig(os.path.join(fig_path,\"environment_top_bounded.png\"), dpi=600)"
   ]
  },
  {
   "cell_type": "code",
   "execution_count": null,
   "id": "98a4b79b",
   "metadata": {},
   "outputs": [],
   "source": []
  }
 ],
 "metadata": {
  "kernelspec": {
   "display_name": "Python 3 (ipykernel)",
   "language": "python",
   "name": "python3"
  },
  "language_info": {
   "codemirror_mode": {
    "name": "ipython",
    "version": 3
   },
   "file_extension": ".py",
   "mimetype": "text/x-python",
   "name": "python",
   "nbconvert_exporter": "python",
   "pygments_lexer": "ipython3",
   "version": "3.8.10"
  }
 },
 "nbformat": 4,
 "nbformat_minor": 5
}
